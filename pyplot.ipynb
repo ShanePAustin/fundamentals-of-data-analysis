{
 "cells": [
  {
   "cell_type": "markdown",
   "metadata": {},
   "source": [
    "## Fundamentals of Data Analysis, Winter 21/22\n",
    "\n",
    "### Overview of the matplotlib.pyplot Python package\n"
   ]
  },
  {
   "cell_type": "markdown",
   "metadata": {},
   "source": [
    "#### Pyplot Notebook\n",
    "\n",
    "\n",
    "* A clear and concise overview of the matplotlib.pyplot Python package.\n",
    "* An in-depth explanation of three interesting plots from the matplotlib.pyplot Python package."
   ]
  },
  {
   "cell_type": "markdown",
   "metadata": {},
   "source": [
    "#### Table of Contents\n",
    "\n",
    "1.\n"
   ]
  },
  {
   "cell_type": "markdown",
   "metadata": {},
   "source": [
    "-----------------------------\n",
    "#### What is Matplotlib\n",
    "\n",
    "Matplotlib is a comprehensive library for creating static, animated, and interactive visualizations in Python [1]. Matplotlib is an open source library, created by John D. Hunter mostly written in python, with a few segments written in C, Objective-C and Javascript for Platform compatibility. It was built to work in a similar fashion to the MATLAB programming language and provides a similar MATLAB like interface for graphics. \n",
    "\n",
    "Matplotlib is a powerful tool for executing a variety of tasks. It is able to create different types of visualization reports like line plots, scatter plots, histograms, bar charts, pie charts, box plots, and many more different plots including 3-dimensional plotting [2]. It integrates with the pandas packaage, which handles data in an organised manner and together make up the fundamentals of data wrangling and visualisation within Python.  <br /><br />"
   ]
  },
  {
   "cell_type": "markdown",
   "metadata": {},
   "source": [
    "Matplotlib uses an object oriented approach to plotting. This means that plots can be built step-by-step by adding new elements to the plot. Matplotlib is conceptually split into three layers shown below.\n",
    "\n",
    "![image](https://delftswa.gitbooks.io/desosa-2017/content/matplotlib/images-matplotlib/functional_view.png)\n",
    "\n",
    "##### Backend Layer\n",
    "\n",
    "This layer interacts directly with the environment it is run on, and it consists of 3 main components:\n",
    "\n",
    "* ```FigureCanvas``` - Acts as the surface that is drawn into to make the plots\n",
    "* ```Renderer``` - This does the drawing of the plots\n",
    "* ```Event``` - This component handles user inputs such as mouse or keyboard events\n",
    "\n",
    "##### Artist Layer\n",
    "\n",
    "This layer handles the communication with the backend layer and is responsible of most of the code requirements. Every image component inside a plot made by Matplotlib (axes, legends, etc) is an instance of the ```Artist``` class. The most important Artist object in Matplotlib is Axes which is responsible for composing the 2D data plots by combining multiple other Artist objects.\n",
    "\n",
    "##### Scripting Layer\n",
    "\n",
    "The scripting layer is accessed through the ```pyplot``` module and contains methods to create commonly used plotting graphics such as the histogram or the scatterplot. This layer also handles additional plot arguments such as setting the color of the plot or the plot labels.\n"
   ]
  },
  {
   "cell_type": "markdown",
   "metadata": {},
   "source": [
    "--------------------------------\n",
    "### Plotting\n",
    "\n",
    "There are two primary objects associated with a matplotlib plot:\n",
    "\n",
    "* figure object: the overall figure space that can contain one or more plots.\n",
    "* axis objects: the individual plots that are rendered within the figure.\n",
    "\n",
    "Different elements of a standard graph are shown in the image below"
   ]
  },
  {
   "cell_type": "markdown",
   "metadata": {},
   "source": [
    "![image](https://3.bp.blogspot.com/-AtPG_12l4e8/XRSuQEECZGI/AAAAAAAAHxY/ZsgtA4rMphMZujcWUur9BB-xYKoWDkKPQCLcBGAs/s1600/basics_matplotlib.PNG)\n",
    "\n",
    "[3]"
   ]
  },
  {
   "cell_type": "markdown",
   "metadata": {},
   "source": [
    "Matplotlib comes pre installed on many Python distrubutions like Anaconda, if it is not it can be easily installed by using the command.\n",
    "\n",
    "```pip install matplotlib```"
   ]
  },
  {
   "cell_type": "markdown",
   "metadata": {},
   "source": [
    "Matplotlib contains many modules that provide different plotting functionality, the most commonly used module is pyplot.\n",
    "\n",
    "The pyplot module is typically imported using \"plt\" key."
   ]
  },
  {
   "cell_type": "code",
   "execution_count": 1,
   "metadata": {},
   "outputs": [],
   "source": [
    "# Import pyplot\n",
    "import matplotlib.pyplot as plt"
   ]
  },
  {
   "cell_type": "code",
   "execution_count": 2,
   "metadata": {},
   "outputs": [],
   "source": [
    "%matplotlib inline"
   ]
  },
  {
   "cell_type": "markdown",
   "metadata": {},
   "source": [
    "The below series of plots will show the use of figures and axes within pyplot as examples of how these objects build the plots.\n",
    "\n",
    "Using pyplot to set the figure object"
   ]
  },
  {
   "cell_type": "code",
   "execution_count": 3,
   "metadata": {},
   "outputs": [
    {
     "data": {
      "image/png": "[encoded data removed]",
      "text/plain": [
       "<Figure size 432x288 with 1 Axes>"
      ]
     },
     "metadata": {
      "needs_background": "light"
     },
     "output_type": "display_data"
    }
   ],
   "source": [
    "#setting the figure\n",
    "fig, ax = plt.subplots()"
   ]
  },
  {
   "cell_type": "markdown",
   "metadata": {},
   "source": [
    "Applying 2 axes onto the figure object"
   ]
  },
  {
   "cell_type": "code",
   "execution_count": 4,
   "metadata": {},
   "outputs": [
    {
     "data": {
      "image/png": "[encoded data removed]",
      "text/plain": [
       "<Figure size 432x288 with 2 Axes>"
      ]
     },
     "metadata": {
      "needs_background": "light"
     },
     "output_type": "display_data"
    }
   ],
   "source": [
    "#Plotting 2 axes on one figure\n",
    "fig, (ax1, ax2) = plt.subplots(1,2)"
   ]
  },
  {
   "cell_type": "markdown",
   "metadata": {},
   "source": [
    "A simple line plot using pyplot. A simple dataset is created and pyplot is call using plt.plot() to plot the data contained in x."
   ]
  },
  {
   "cell_type": "code",
   "execution_count": 5,
   "metadata": {},
   "outputs": [
    {
     "data": {
      "text/plain": [
       "[<matplotlib.lines.Line2D at 0x1a4766a6e80>]"
      ]
     },
     "execution_count": 5,
     "metadata": {},
     "output_type": "execute_result"
    },
    {
     "data": {
      "image/png": "[encoded data removed]",
      "text/plain": [
       "<Figure size 432x288 with 1 Axes>"
      ]
     },
     "metadata": {
      "needs_background": "light"
     },
     "output_type": "display_data"
    }
   ],
   "source": [
    "#Simple dataset\n",
    "x = (1,2,3,4,5,6,7)\n",
    "\n",
    "#Using pyplot to the line \n",
    "plt.plot(x)"
   ]
  },
  {
   "cell_type": "markdown",
   "metadata": {},
   "source": [
    "Plotting a formula of x squared"
   ]
  },
  {
   "cell_type": "code",
   "execution_count": 6,
   "metadata": {},
   "outputs": [
    {
     "data": {
      "text/plain": [
       "[<matplotlib.lines.Line2D at 0x1a476715520>]"
      ]
     },
     "execution_count": 6,
     "metadata": {},
     "output_type": "execute_result"
    },
    {
     "data": {
      "image/png": "[encoded data removed]",
      "text/plain": [
       "<Figure size 432x288 with 1 Axes>"
      ]
     },
     "metadata": {
      "needs_background": "light"
     },
     "output_type": "display_data"
    }
   ],
   "source": [
    "x = (1,2,3,4,5,6,7)\n",
    "#Iterate through x and calculate the square of each\n",
    "x2 = [x ** 2 for x in x]\n",
    "\n",
    "#plotting the new list\n",
    "plt.plot(x2)"
   ]
  },
  {
   "cell_type": "markdown",
   "metadata": {},
   "source": [
    "Using pyplot to plot two lines on one axis"
   ]
  },
  {
   "cell_type": "code",
   "execution_count": 7,
   "metadata": {},
   "outputs": [
    {
     "data": {
      "text/plain": [
       "[<matplotlib.lines.Line2D at 0x1a4767743d0>]"
      ]
     },
     "execution_count": 7,
     "metadata": {},
     "output_type": "execute_result"
    },
    {
     "data": {
      "image/png": "[encoded data removed]",
      "text/plain": [
       "<Figure size 432x288 with 1 Axes>"
      ]
     },
     "metadata": {
      "needs_background": "light"
     },
     "output_type": "display_data"
    }
   ],
   "source": [
    "plt.plot(x)\n",
    "plt.plot(x2)"
   ]
  },
  {
   "cell_type": "markdown",
   "metadata": {},
   "source": [
    "Using pyplot to plot one a different axis"
   ]
  },
  {
   "cell_type": "code",
   "execution_count": 8,
   "metadata": {},
   "outputs": [
    {
     "data": {
      "text/plain": [
       "[<matplotlib.lines.Line2D at 0x1a4768068e0>]"
      ]
     },
     "execution_count": 8,
     "metadata": {},
     "output_type": "execute_result"
    },
    {
     "data": {
      "image/png": "[encoded data removed]",
      "text/plain": [
       "<Figure size 432x288 with 2 Axes>"
      ]
     },
     "metadata": {
      "needs_background": "light"
     },
     "output_type": "display_data"
    }
   ],
   "source": [
    "fig, (ax1, ax2) = plt.subplots(1,2)\n",
    "\n",
    "ax1.plot(x)\n",
    "ax2.plot(x2)"
   ]
  },
  {
   "cell_type": "markdown",
   "metadata": {},
   "source": [
    "#### Labels\n",
    "\n",
    "Matplotlib has built in functions that allow the labelling of plots command include:\n",
    "\n",
    "* ```label()```  - cab assign a label to each plot\n",
    "* ```xlabel()``` - for labelling the x axis\n",
    "* ```ylabel()``` - for labelling the x axis\n",
    "* ```title()```  - for the plot title\n",
    "* ```legend()``` - creates a key of the labels"
   ]
  },
  {
   "cell_type": "code",
   "execution_count": 9,
   "metadata": {},
   "outputs": [
    {
     "data": {
      "text/plain": [
       "<matplotlib.legend.Legend at 0x1a47685fa00>"
      ]
     },
     "execution_count": 9,
     "metadata": {},
     "output_type": "execute_result"
    },
    {
     "data": {
      "image/png": "[encoded data removed]",
      "text/plain": [
       "<Figure size 432x288 with 1 Axes>"
      ]
     },
     "metadata": {
      "needs_background": "light"
     },
     "output_type": "display_data"
    }
   ],
   "source": [
    "#establish the dataset\n",
    "x = (1,2,3,4)\n",
    "x2 = [x ** 2 for x in x]\n",
    "x3 = [x ** 3 for x in x]\n",
    "\n",
    "#plot as before with added labels\n",
    "plt.plot(x, label = \"x\")\n",
    "plt.plot(x2, label = \"x2\")\n",
    "#can call on the variable itself to display the contents\n",
    "plt.plot(x3, label = x3)\n",
    "\n",
    "#Add a title\n",
    "plt.title (\"Example of labels\")\n",
    "#x and y labels\n",
    "plt.xlabel(\"x\")\n",
    "plt.ylabel(\"y\")\n",
    "#legend that takes values from \"label\"\n",
    "plt.legend()"
   ]
  },
  {
   "cell_type": "markdown",
   "metadata": {},
   "source": [
    "#### Styling\n",
    "\n",
    "They are many different style function built into matplotlib some commands include\n",
    "\n",
    "* ```color```     - can change the line colour  \n",
    "* ```linestyle``` - assign a style to the line\n",
    "* ```linewidth``` - set the thickness of the line\n",
    "* ```marker```    - add an interval marker on the line\n",
    "* ```grid```      - apply a background grid, can also set to apply to just one axis\n",
    "* ```facecolor``` - set the background colour"
   ]
  },
  {
   "cell_type": "code",
   "execution_count": 10,
   "metadata": {},
   "outputs": [
    {
     "data": {
      "image/png": "[encoded data removed]",
      "text/plain": [
       "<Figure size 432x288 with 1 Axes>"
      ]
     },
     "metadata": {
      "needs_background": "light"
     },
     "output_type": "display_data"
    }
   ],
   "source": [
    "fig, ax = plt.subplots()\n",
    "\n",
    "#establish the dataset\n",
    "x = (1,2,3,4)\n",
    "x2 = [x ** 2 for x in x]\n",
    "x3 = [x ** 3 for x in x]\n",
    "\n",
    "#plot just \"*\" instead of a line, coloured red\n",
    "plt.plot(x, \"*\", color = \"red\")\n",
    "#apply marker\n",
    "plt.plot(x2, marker = \"o\")\n",
    "#set the linestyle and thickness\n",
    "plt.plot(x3, linestyle =\"dashed\", linewidth = \"5\")\n",
    "#apply a grid (set to only y axis and dashed line)\n",
    "plt.grid(axis = \"y\", linestyle =\"dashed\")\n",
    "#change the axis colour\n",
    "ax.set_facecolor(\"lightblue\")"
   ]
  },
  {
   "cell_type": "markdown",
   "metadata": {},
   "source": [
    "#### Putting it together\n",
    "\n",
    "With this plot numpy is imported to use the linspace function to plot evenly spaced samples over an interval range, this will result in a curved plot. Then the markers have to be set to the desired interval rather than at every plot point.\n",
    "\n",
    "Latex math notation can also be used to style the labels."
   ]
  },
  {
   "cell_type": "code",
   "execution_count": 11,
   "metadata": {},
   "outputs": [
    {
     "data": {
      "image/png": "[encoded data removed]",
      "text/plain": [
       "<Figure size 432x288 with 1 Axes>"
      ]
     },
     "metadata": {
      "needs_background": "light"
     },
     "output_type": "display_data"
    }
   ],
   "source": [
    "import numpy as np\n",
    "\n",
    "#define dataset\n",
    "lowRange = 0\n",
    "highRange = 4\n",
    "#I decided to make the step 10 * the high range, this means it will plot 10 points for each whole number on the x axis\n",
    "#this makes the \"markevery\" consistent and easy to configure\n",
    "step = (highRange*10)+1\n",
    "\n",
    "#set axes area, i extended the y limit to 70 otherwise in cuts off at 60 and the highest value is 64\n",
    "ax = plt.axes()\n",
    "#ylim and xlim can hardcode the plot area\n",
    "plt.ylim(-2,70)\n",
    "\n",
    "#create dataset, I used linspace as it plots evenly spaced samples over the interval range\n",
    "xpoints = np.linspace(lowRange,highRange,step)\n",
    "\n",
    "#calculations for x, xsquared and xcubed\n",
    "x = xpoints\n",
    "x2 = xpoints**2\n",
    "x3 = xpoints**3\n",
    "\n",
    "#plots x and y, using $\"\"$ denote LaTeX math notation for labels, colours chosen from CSS color\n",
    "#markevery plots a point at every whole number on the x axis\n",
    "plt.plot(xpoints, x,label = \"$f(x)= x$\", color=\"firebrick\", linewidth = 2, marker = \"o\", markevery = 10)\n",
    "plt.plot(xpoints, x2,label = \"$g(x)= x^{2}$\", color=\"royalblue\", linewidth = 2, marker = \"o\", markevery = 10)\n",
    "plt.plot(xpoints, x3, label = \"$h(x)= x^{3}$\", color=\"forestgreen\", linewidth = 2, marker = \"o\", markevery = 10)\n",
    "\n",
    "#labels, using LaTeX math notation\n",
    "plt.title (\"Values of $x$, $x^{}$, and $x^{}$ in the range {}-{}\".format(2,3,lowRange,highRange))\n",
    "plt.xlabel(\"$x$\")\n",
    "plt.ylabel(\"$x^{n}$\")\n",
    "plt.legend()\n",
    "\n",
    "#style, sets background colour and a dashed grid\n",
    "plt.grid(linestyle =\"dashed\")\n",
    "ax.set_facecolor(\"lightgrey\")"
   ]
  },
  {
   "cell_type": "code",
   "execution_count": null,
   "metadata": {},
   "outputs": [],
   "source": []
  },
  {
   "cell_type": "markdown",
   "metadata": {},
   "source": [
    "These have all been plotted using the default line plot type within the library, other simple plots can be defined with the following functions:\n",
    "\n",
    "| Type of Plot  | Function  |\n",
    "|---|---|\n",
    "| line plot (Default)  | plt.plot(  )  |  \n",
    "| vertical bar plots  | plt.bar(  )  | \n",
    "| horizontal bar plots  | plt.barh(  )  |\n",
    "| histogram  | plt.hist(  )  |  \n",
    "| boxplot  | plt.box(  )  |  \n",
    "| area plots  | plt.area(  )  |  \n",
    "| scatter plots  | plt.scatter(  )  |  \n",
    "| pie plots  | plt.pie(  )  |  \n",
    "| hexagonal bin plots  | plt.hexbin(  )  |  \n",
    "\n"
   ]
  },
  {
   "cell_type": "markdown",
   "metadata": {},
   "source": [
    "----------\n",
    "## Three Interesting Plots\n",
    "\n",
    "For the interesting plots the Iris dataset will be used to give examples of the various plots and help describe the functionality."
   ]
  },
  {
   "cell_type": "code",
   "execution_count": 12,
   "metadata": {},
   "outputs": [],
   "source": [
    "import pandas as pd"
   ]
  },
  {
   "cell_type": "markdown",
   "metadata": {},
   "source": [
    "Import the dataset and label the columns"
   ]
  },
  {
   "cell_type": "code",
   "execution_count": 13,
   "metadata": {},
   "outputs": [],
   "source": [
    "filename = \".\\Pyplot Data\\iris.csv\"\n",
    "\n",
    "df = pd.read_csv(filename, header = None, names = [\"SepalLength\", \"SepalWidth\", \"PetalLength\", \"PetalWidth\", \"Species\"])"
   ]
  },
  {
   "cell_type": "markdown",
   "metadata": {},
   "source": [
    "Verify the dataset imported as expected"
   ]
  },
  {
   "cell_type": "code",
   "execution_count": 14,
   "metadata": {},
   "outputs": [
    {
     "name": "stdout",
     "output_type": "stream",
     "text": [
      "     SepalLength  SepalWidth  PetalLength  PetalWidth         Species\n",
      "0            5.1         3.5          1.4         0.2     Iris-setosa\n",
      "1            4.9         3.0          1.4         0.2     Iris-setosa\n",
      "2            4.7         3.2          1.3         0.2     Iris-setosa\n",
      "3            4.6         3.1          1.5         0.2     Iris-setosa\n",
      "4            5.0         3.6          1.4         0.2     Iris-setosa\n",
      "..           ...         ...          ...         ...             ...\n",
      "145          6.7         3.0          5.2         2.3  Iris-virginica\n",
      "146          6.3         2.5          5.0         1.9  Iris-virginica\n",
      "147          6.5         3.0          5.2         2.0  Iris-virginica\n",
      "148          6.2         3.4          5.4         2.3  Iris-virginica\n",
      "149          5.9         3.0          5.1         1.8  Iris-virginica\n",
      "\n",
      "[150 rows x 5 columns]\n"
     ]
    }
   ],
   "source": [
    "print(df)"
   ]
  },
  {
   "cell_type": "code",
   "execution_count": 15,
   "metadata": {},
   "outputs": [
    {
     "name": "stdout",
     "output_type": "stream",
     "text": [
      "(150, 5)\n"
     ]
    }
   ],
   "source": [
    "shape = df.shape\n",
    "\n",
    "print(shape)"
   ]
  },
  {
   "cell_type": "code",
   "execution_count": 16,
   "metadata": {},
   "outputs": [
    {
     "name": "stdout",
     "output_type": "stream",
     "text": [
      "SepalLength    150\n",
      "SepalWidth     150\n",
      "PetalLength    150\n",
      "PetalWidth     150\n",
      "Species        150\n",
      "dtype: int64\n"
     ]
    }
   ],
   "source": [
    "count = df.count()\n",
    "print(count)"
   ]
  },
  {
   "cell_type": "code",
   "execution_count": 17,
   "metadata": {},
   "outputs": [
    {
     "name": "stdout",
     "output_type": "stream",
     "text": [
      "Iris-virginica     50\n",
      "Iris-setosa        50\n",
      "Iris-versicolor    50\n",
      "Name: Species, dtype: int64\n"
     ]
    }
   ],
   "source": [
    "countSpecies = df[\"Species\"].value_counts()\n",
    "print(countSpecies)"
   ]
  },
  {
   "cell_type": "code",
   "execution_count": 18,
   "metadata": {},
   "outputs": [
    {
     "name": "stdout",
     "output_type": "stream",
     "text": [
      "       SepalLength  SepalWidth  PetalLength  PetalWidth\n",
      "count       150.00      150.00       150.00      150.00\n",
      "mean          5.84        3.06         3.76        1.20\n",
      "std           0.83        0.44         1.77        0.76\n",
      "min           4.30        2.00         1.00        0.10\n",
      "25%           5.10        2.80         1.60        0.30\n",
      "50%           5.80        3.00         4.35        1.30\n",
      "75%           6.40        3.30         5.10        1.80\n",
      "max           7.90        4.40         6.90        2.50\n"
     ]
    }
   ],
   "source": [
    "summary = df.describe().round(2)\n",
    "print(summary)"
   ]
  },
  {
   "cell_type": "code",
   "execution_count": null,
   "metadata": {},
   "outputs": [],
   "source": []
  },
  {
   "cell_type": "code",
   "execution_count": null,
   "metadata": {},
   "outputs": [],
   "source": []
  },
  {
   "cell_type": "markdown",
   "metadata": {},
   "source": [
    "---\n",
    "### Histograms\n",
    "[Official Documentation](https://matplotlib.org/stable/api/_as_gen/matplotlib.pyplot.hist.html)"
   ]
  },
  {
   "cell_type": "code",
   "execution_count": 19,
   "metadata": {},
   "outputs": [
    {
     "data": {
      "image/png": "[encoded data removed]",
      "text/plain": [
       "<Figure size 432x288 with 1 Axes>"
      ]
     },
     "metadata": {
      "needs_background": "light"
     },
     "output_type": "display_data"
    }
   ],
   "source": [
    "ax = plt.axes()\n",
    "plt.hist(df[\"SepalLength\"], color = \"firebrick\", ec = \"black\")\n",
    "plt.title(\"Sepal Length Histogram\")\n",
    "plt.xlabel(\"Sepal Length\")\n",
    "ax.set_facecolor(\"lightgrey\")"
   ]
  },
  {
   "cell_type": "code",
   "execution_count": 20,
   "metadata": {},
   "outputs": [
    {
     "data": {
      "image/png": "[encoded data removed]",
      "text/plain": [
       "<Figure size 432x288 with 1 Axes>"
      ]
     },
     "metadata": {
      "needs_background": "light"
     },
     "output_type": "display_data"
    }
   ],
   "source": [
    "ax = plt.axes()\n",
    "plt.hist(df[\"SepalWidth\"], color = \"royalblue\", ec = \"black\")\n",
    "plt.title(\"Sepal Width Histogram\")\n",
    "plt.xlabel(\"Sepal Width\")\n",
    "ax.set_facecolor(\"lightgrey\") "
   ]
  },
  {
   "cell_type": "code",
   "execution_count": 21,
   "metadata": {},
   "outputs": [
    {
     "data": {
      "image/png": "[encoded data removed]",
      "text/plain": [
       "<Figure size 432x288 with 1 Axes>"
      ]
     },
     "metadata": {
      "needs_background": "light"
     },
     "output_type": "display_data"
    }
   ],
   "source": [
    "ax = plt.axes()\n",
    "plt.hist(df[\"PetalLength\"], color = \"forestgreen\", ec = \"black\")\n",
    "plt.title(\"Petal Length Histogram\")\n",
    "plt.xlabel(\"Petal Length\")\n",
    "ax.set_facecolor(\"lightgrey\")"
   ]
  },
  {
   "cell_type": "code",
   "execution_count": 22,
   "metadata": {},
   "outputs": [
    {
     "data": {
      "image/png": "[encoded data removed]",
      "text/plain": [
       "<Figure size 432x288 with 1 Axes>"
      ]
     },
     "metadata": {
      "needs_background": "light"
     },
     "output_type": "display_data"
    }
   ],
   "source": [
    "ax = plt.axes()\n",
    "plt.hist(df[\"PetalWidth\"], color = \"darkorchid\", ec = \"black\")\n",
    "plt.title(\"Petal Width Histogram\")\n",
    "plt.xlabel(\"Petal Width\")\n",
    "ax.set_facecolor(\"lightgrey\")"
   ]
  },
  {
   "cell_type": "code",
   "execution_count": 23,
   "metadata": {},
   "outputs": [
    {
     "data": {
      "image/png": "[encoded data removed]",
      "text/plain": [
       "<Figure size 432x288 with 4 Axes>"
      ]
     },
     "metadata": {
      "needs_background": "light"
     },
     "output_type": "display_data"
    }
   ],
   "source": [
    "plt.subplot(2,2,1)\n",
    "plt.hist(df[\"SepalLength\"], color = \"firebrick\", ec = \"black\")\n",
    "plt.title(\"Sepal Length Histogram\")\n",
    "plt.xlabel(\"Sepal Length\")\n",
    "\n",
    "plt.subplot(2,2,2)\n",
    "plt.hist(df[\"SepalWidth\"], color = \"royalblue\", ec = \"black\")\n",
    "plt.title(\"Sepal Width Histogram\")\n",
    "plt.xlabel(\"Sepal Width\")\n",
    "\n",
    "plt.subplot(2,2,3)\n",
    "plt.hist(df[\"PetalLength\"], color = \"forestgreen\", ec = \"black\")\n",
    "plt.title(\"Petal Length Histogram\")\n",
    "plt.xlabel(\"Petal Length\")\n",
    "\n",
    "plt.subplot(2,2,4)\n",
    "plt.hist(df[\"PetalWidth\"], color = \"darkorchid\", ec = \"black\")\n",
    "plt.title(\"Petal Width Histogram\")\n",
    "plt.xlabel(\"Petal Width\")\n",
    "\n",
    "#tight layout stops the labels overlapping\n",
    "plt.tight_layout()"
   ]
  },
  {
   "cell_type": "code",
   "execution_count": 24,
   "metadata": {},
   "outputs": [
    {
     "data": {
      "text/plain": [
       "<matplotlib.legend.Legend at 0x1a4787a4fa0>"
      ]
     },
     "execution_count": 24,
     "metadata": {},
     "output_type": "execute_result"
    },
    {
     "data": {
      "image/png": "[encoded data removed]",
      "text/plain": [
       "<Figure size 432x288 with 1 Axes>"
      ]
     },
     "metadata": {
      "needs_background": "light"
     },
     "output_type": "display_data"
    }
   ],
   "source": [
    "ax = plt.axes()\n",
    "\n",
    "plt.hist(df[\"SepalLength\"], color = \"firebrick\", label = \"Sepal Length\")\n",
    "plt.hist(df[\"SepalWidth\"], color = \"royalblue\", label = \"Sepal Width\")\n",
    "plt.hist(df[\"PetalLength\"], color = \"forestgreen\", label = \"Petal Length\")\n",
    "plt.hist(df[\"PetalWidth\"], color = \"darkorchid\", label = \"Petal Width\")\n",
    "\n",
    "plt.legend()"
   ]
  },
  {
   "cell_type": "code",
   "execution_count": 25,
   "metadata": {},
   "outputs": [
    {
     "data": {
      "image/png": "[encoded data removed]",
      "text/plain": [
       "<Figure size 720x720 with 4 Axes>"
      ]
     },
     "metadata": {
      "needs_background": "light"
     },
     "output_type": "display_data"
    }
   ],
   "source": [
    "plt.figure(figsize=(10,10))\n",
    "\n",
    "plt.subplot(2,2,1)\n",
    "plt.hist(df[\"SepalLength\"], histtype = \"bar\")\n",
    "\n",
    "plt.title(\"Sepal Length Histogram\")\n",
    "plt.xlabel(\"Sepal Length\")\n",
    "\n",
    "plt.subplot(2,2,2)\n",
    "plt.hist(df[\"PetalLength\"], histtype = \"barstacked\")\n",
    "plt.hist(df[\"SepalLength\"], histtype = \"barstacked\")\n",
    "\n",
    "plt.title(\"Sepal Width Histogram\")\n",
    "plt.xlabel(\"Sepal Width\")\n",
    "\n",
    "plt.subplot(2,2,3)\n",
    "plt.hist(df[\"PetalLength\"], alpha=0.2)\n",
    "plt.title(\"Petal Length Histogram\")\n",
    "plt.xlabel(\"Petal Length\")\n",
    "\n",
    "plt.subplot(2,2,4)\n",
    "plt.hist(df[\"PetalWidth\"], histtype = \"step\")\n",
    "\n",
    "plt.title(\"Petal Width Histogram\")\n",
    "plt.xlabel(\"Petal Width\")\n",
    "\n",
    "#tight layout stops the labels overlapping\n",
    "plt.tight_layout()"
   ]
  },
  {
   "cell_type": "code",
   "execution_count": 26,
   "metadata": {},
   "outputs": [],
   "source": [
    "setosa = df.loc [df [\"Species\"] == \"Iris-setosa\"]\n",
    "versicolor = df.loc [df [\"Species\"] == \"Iris-versicolor\"]\n",
    "virginica = df.loc [df [\"Species\"] == \"Iris-virginica\" ]"
   ]
  },
  {
   "cell_type": "code",
   "execution_count": 27,
   "metadata": {},
   "outputs": [
    {
     "data": {
      "image/png": "[encoded data removed]",
      "text/plain": [
       "<Figure size 720x720 with 4 Axes>"
      ]
     },
     "metadata": {
      "needs_background": "light"
     },
     "output_type": "display_data"
    }
   ],
   "source": [
    "plt.figure(figsize=(10,10))\n",
    "plt.suptitle (\"Measurements Split by Species\")\n",
    "plt.subplot(2,2,1)\n",
    "plt.hist(setosa[\"SepalLength\"], alpha = 0.75, label = \"Iris-setosa\", color = \"r\")\n",
    "plt.hist(versicolor[\"SepalLength\"], alpha = 0.5, label = \"Iris Versicolour\", color = \"b\")\n",
    "plt.hist(virginica [\"SepalLength\"], alpha = 0.5, label = \"Iris Virginica\", color = \"g\")\n",
    "plt.xlabel (\"Sepal Length\")\n",
    "plt.ylabel (\"Frequency\")\n",
    "\n",
    "plt.subplot(2,2,2)\n",
    "plt.hist(setosa[\"SepalWidth\"], alpha = 0.75, label = \"Iris-setosa\", color = \"r\")\n",
    "plt.hist(versicolor[\"SepalWidth\"], alpha = 0.5, label = \"Iris Versicolour\", color = \"b\")\n",
    "plt.hist(virginica [\"SepalWidth\"], alpha = 0.5, label = \"Iris Virginica\", color = \"g\")\n",
    "plt.xlabel (\"Sepal Width\")\n",
    "plt.ylabel (\"Frequency\")\n",
    "\n",
    "plt.subplot(2,2,3)\n",
    "plt.hist(setosa[\"PetalLength\"], alpha = 0.75, label = \"Iris-setosa\", color = \"r\")\n",
    "plt.hist(versicolor[\"PetalLength\"], alpha = 0.5, label = \"Iris Versicolour\", color = \"b\")\n",
    "plt.hist(virginica [\"PetalLength\"], alpha = 0.5, label = \"Iris Virginica\", color = \"g\")\n",
    "plt.xlabel (\"Petal Length\")\n",
    "plt.ylabel (\"Frequency\")\n",
    "\n",
    "plt.subplot(2,2,4)\n",
    "plt.hist(setosa[\"PetalWidth\"], alpha = 0.75, label = \"Iris-setosa\", color = \"r\")\n",
    "plt.hist(versicolor[\"PetalWidth\"], alpha = 0.5, label = \"Iris Versicolour\", color = \"b\")\n",
    "plt.hist(virginica [\"PetalWidth\"], alpha = 0.5, label = \"Iris Virginica\", color = \"g\")\n",
    "plt.xlabel (\"Petal Width\")\n",
    "plt.ylabel (\"Frequency\")\n",
    "\n",
    "\n",
    "plt.legend()\n",
    "plt.tight_layout()"
   ]
  },
  {
   "cell_type": "markdown",
   "metadata": {},
   "source": [
    "#### Seaborn"
   ]
  },
  {
   "cell_type": "code",
   "execution_count": 28,
   "metadata": {},
   "outputs": [
    {
     "data": {
      "text/plain": [
       "Text(0.5, 0.98, 'Combined Histograms Seperated by Species')"
      ]
     },
     "execution_count": 28,
     "metadata": {},
     "output_type": "execute_result"
    },
    {
     "data": {
      "image/png": "[encoded data removed]",
      "text/plain": [
       "<Figure size 720x720 with 4 Axes>"
      ]
     },
     "metadata": {
      "needs_background": "light"
     },
     "output_type": "display_data"
    }
   ],
   "source": [
    "import seaborn as sns\n",
    "\n",
    "distplot, axes = plt.subplots(2,2, figsize=(10,10), sharex=False)\n",
    "sns.histplot( x=\"SepalLength\", hue=\"Species\", data = df, palette=\"BuPu_r\", ax=axes[0,0])\n",
    "sns.histplot( x=\"SepalWidth\",  hue=\"Species\", data = df, palette=\"BuPu_r\", ax=axes[0,1])\n",
    "sns.histplot( x=\"PetalLength\", hue=\"Species\", data = df, palette=\"BuPu_r\", ax=axes[1,0])\n",
    "sns.histplot( x=\"PetalWidth\",  hue=\"Species\", data = df, palette=\"BuPu_r\", ax=axes[1,1])\n",
    "plt.suptitle(\"Combined Histograms Seperated by Species\")"
   ]
  },
  {
   "cell_type": "code",
   "execution_count": 29,
   "metadata": {},
   "outputs": [
    {
     "data": {
      "image/png": "[encoded data removed]",
      "text/plain": [
       "<Figure size 432x288 with 1 Axes>"
      ]
     },
     "metadata": {
      "needs_background": "light"
     },
     "output_type": "display_data"
    }
   ],
   "source": [
    "ax = plt.axes()\n",
    "x = df[\"PetalLength\"] \n",
    "y = df[\"PetalWidth\"]\n",
    "plt.hist2d(x, y, bins = (30,30), cmap=plt.cm.jet)\n",
    "plt.show()"
   ]
  },
  {
   "cell_type": "markdown",
   "metadata": {},
   "source": [
    "---\n",
    "### Scatter Plots\n",
    "[Official Documentation](https://matplotlib.org/stable/api/_as_gen/matplotlib.pyplot.scatter.html)"
   ]
  },
  {
   "cell_type": "markdown",
   "metadata": {},
   "source": []
  },
  {
   "cell_type": "code",
   "execution_count": 30,
   "metadata": {},
   "outputs": [],
   "source": [
    "#Set the style for future plots\n",
    "plt.style.use('bmh')"
   ]
  },
  {
   "cell_type": "code",
   "execution_count": 31,
   "metadata": {},
   "outputs": [
    {
     "data": {
      "image/png": "[encoded data removed]",
      "text/plain": [
       "<Figure size 432x288 with 1 Axes>"
      ]
     },
     "metadata": {
      "needs_background": "light"
     },
     "output_type": "display_data"
    }
   ],
   "source": [
    "ax = plt.axes()\n",
    "x = df[\"PetalLength\"] \n",
    "y = df[\"PetalWidth\"]\n",
    "plt.scatter(x, y)\n",
    "plt.show()"
   ]
  },
  {
   "cell_type": "code",
   "execution_count": 32,
   "metadata": {},
   "outputs": [
    {
     "data": {
      "image/png": "[encoded data removed]",
      "text/plain": [
       "<Figure size 432x288 with 1 Axes>"
      ]
     },
     "metadata": {
      "needs_background": "light"
     },
     "output_type": "display_data"
    }
   ],
   "source": [
    "x = df[\"SepalLength\"] \n",
    "y = df[\"SepalWidth\"]\n",
    "plt.scatter(x, y, marker = \"2\", c = \"purple\")\n",
    "plt.show()"
   ]
  },
  {
   "cell_type": "code",
   "execution_count": 33,
   "metadata": {},
   "outputs": [
    {
     "data": {
      "image/png": "[encoded data removed]",
      "text/plain": [
       "<Figure size 432x288 with 1 Axes>"
      ]
     },
     "metadata": {
      "needs_background": "light"
     },
     "output_type": "display_data"
    }
   ],
   "source": [
    "#Sepal sizes by species\n",
    "plt.scatter(setosa[\"SepalLength\"], setosa[\"PetalLength\"], label='Setosa')\n",
    "plt.scatter(versicolor[\"SepalLength\"], versicolor[\"PetalLength\"], label='Versicolor')\n",
    "plt.scatter(virginica[\"SepalLength\"], virginica[\"PetalLength\"], label='Virginica')\n",
    "\n",
    "#Set labels and title\n",
    "plt.xlabel('Sepal Length')\n",
    "plt.ylabel('Petal Length')\n",
    "plt.title('Sepal vs Petal Lengths')\n",
    "\n",
    "#Add a legend\n",
    "plt.legend()\n",
    "plt.show()"
   ]
  },
  {
   "cell_type": "code",
   "execution_count": 34,
   "metadata": {},
   "outputs": [
    {
     "data": {
      "image/png": "[encoded data removed]",
      "text/plain": [
       "<Figure size 432x288 with 1 Axes>"
      ]
     },
     "metadata": {
      "needs_background": "light"
     },
     "output_type": "display_data"
    }
   ],
   "source": [
    "plt.scatter(setosa[\"SepalLength\"], setosa[\"PetalLength\"], label='Setosa', s = 50 * setosa[\"PetalWidth\"])\n",
    "plt.scatter(versicolor[\"SepalLength\"], versicolor[\"PetalLength\"], label='Versicolor', s = 50 * versicolor[\"PetalWidth\"])\n",
    "plt.scatter(virginica[\"SepalLength\"], virginica[\"PetalLength\"], label='Virginica', s = 50 * virginica[\"PetalWidth\"])\n",
    "\n",
    "#Set labels and title\n",
    "plt.xlabel('Sepal Length')\n",
    "plt.ylabel('Petal Length')\n",
    "plt.title('Sepal vs Petal Lengths')\n",
    "\n",
    "#Add a legend\n",
    "plt.legend()\n",
    "plt.show()"
   ]
  },
  {
   "cell_type": "code",
   "execution_count": 35,
   "metadata": {},
   "outputs": [
    {
     "data": {
      "text/plain": [
       "<seaborn.axisgrid.PairGrid at 0x1a479c61970>"
      ]
     },
     "execution_count": 35,
     "metadata": {},
     "output_type": "execute_result"
    },
    {
     "data": {
      "image/png": "[encoded data removed]",
      "text/plain": [
       "<Figure size 967.25x864 with 20 Axes>"
      ]
     },
     "metadata": {
      "needs_background": "light"
     },
     "output_type": "display_data"
    }
   ],
   "source": [
    "sns.pairplot(df,hue=\"Species\", palette=\"BuPu_r\", height=3)"
   ]
  },
  {
   "cell_type": "code",
   "execution_count": 44,
   "metadata": {},
   "outputs": [],
   "source": [
    "filename = \"RNLI_Returns_of_Service_Galway.csv\"\n",
    "\n",
    "map_df = pd.read_csv(filename)"
   ]
  },
  {
   "cell_type": "code",
   "execution_count": 50,
   "metadata": {},
   "outputs": [
    {
     "data": {
      "application/vnd.plotly.v1+json": {
       "config": {
        "plotlyServerURL": "https://plot.ly"
       },
       "data": [
        {
         "hovertemplate": "<b>%{hovertext}</b><br><br>Y=%{lat}<br>X=%{lon}<br>YearOfCall=%{marker.color}<extra></extra>",
         "hovertext": [
          "02:47:00",
          "14:22:00",
          "12:38:00",
          "02:40:00",
          "12:00:00",
          "13:24:00",
          "10:22:00",
          "18:14:00",
          "23:10:00",
          "13:10:00",
          "18:59:00",
          "14:00:00",
          "10:30:00",
          "11:45:00",
          "11:45:00",
          "13:00:00",
          "08:15:00",
          "10:05:00",
          "18:00:00",
          "12:30:00",
          "16:00:00",
          "18:00:00",
          "12:54:00",
          "18:08:00",
          "12:23:00",
          "21:31:00",
          "16:07:00",
          "15:30:00",
          "15:19:00",
          "16:22:00",
          "13:53:00",
          "14:05:00",
          "22:49:00",
          "16:25:00",
          "19:21:00",
          "21:41:00",
          "18:45:00",
          "11:55:00",
          "19:02:00",
          "18:17:00",
          "17:22:00",
          "15:30:00",
          "12:50:00",
          "14:19:00",
          "15:36:00",
          "15:45:00",
          "14:54:00",
          "00:29:00",
          "01:08:00",
          "19:35:00",
          "22:20:00",
          "16:00:00",
          "19:12:00",
          "03:20:00",
          "18:52:00",
          "15:00:00",
          "15:05:00",
          "10:00:00",
          "13:36:00",
          "12:40:00",
          "15:20:00",
          "15:00:00",
          "18:27:00",
          "01:45:00",
          "08:35:00",
          "17:25:00",
          "04:02:00",
          "16:10:00",
          "00:25:00",
          "11:40:00",
          "23:56:00",
          "22:10:00",
          "17:20:00",
          "08:00:00",
          "08:00:00",
          "03:15:00",
          "16:30:00",
          "10:05:00",
          "19:17:00",
          "16:50:00",
          "19:50:00",
          "14:50:00",
          "03:06:00",
          "15:15:00",
          "16:00:00",
          "21:02:00",
          "20:32:00",
          "20:43:00",
          "16:32:00",
          "13:25:00",
          "16:33:00",
          "03:00:00",
          "13:56:00",
          "12:50:00",
          "20:48:00",
          "16:16:00",
          "13:02:00",
          "17:00:00",
          "13:45:00",
          "17:35:00",
          "19:30:00",
          "13:03:00",
          "13:35:00",
          "12:30:00",
          "06:11:00",
          "10:04:00",
          "15:38:00",
          "11:03:00",
          "18:12:00",
          "15:50:00",
          "14:30:00",
          "20:49:00",
          "13:50:00",
          "16:00:00",
          "04:39:00",
          "17:00:00",
          "17:57:00",
          "18:23:00",
          "21:34:00",
          "16:16:00",
          "12:41:00",
          "21:55:00",
          "19:35:00",
          "16:07:00",
          "11:10:00",
          "16:00:00",
          "15:24:00",
          "16:37:00",
          "02:04:00",
          "19:50:00",
          "16:58:00",
          "17:15:00",
          "09:48:00",
          "16:35:00",
          "13:47:00",
          "19:30:00",
          "23:47:00",
          "13:34:00",
          "09:45:00",
          "07:19:00",
          "21:59:00",
          "20:01:00",
          "22:03:00",
          "19:30:00",
          "18:40:00",
          "12:29:00",
          "15:47:00",
          "21:23:00",
          "18:08:00",
          "16:49:00",
          "19:10:00",
          "02:51:00",
          "05:15:00",
          "11:40:00",
          "09:31:00",
          "18:14:00",
          "23:25:00",
          "09:30:00",
          "03:52:00",
          "11:36:00",
          "13:48:00",
          "01:20:00",
          "15:25:00",
          "15:25:00",
          "14:03:00",
          "14:19:00",
          "05:55:00",
          "18:15:00",
          "17:48:00",
          "09:20:00",
          "09:45:00",
          "12:58:00",
          "21:20:00",
          "23:11:00",
          "19:00:00",
          "04:15:00",
          "11:20:00",
          "07:56:00",
          "20:32:00",
          "16:10:00",
          "18:23:00",
          "18:23:00",
          "19:58:00",
          "17:02:00",
          "16:32:00",
          "23:05:00",
          "21:28:00",
          "14:45:00",
          "16:01:00",
          "23:06:00",
          "02:12:00",
          "12:55:00",
          "18:36:00",
          "15:40:00",
          "11:55:00",
          "23:13:00",
          "17:18:00",
          "23:33:00",
          "18:50:00",
          "20:18:00",
          "16:47:00",
          "16:35:00",
          "12:52:00",
          "20:11:00",
          "19:30:00",
          "10:50:00",
          "13:45:00",
          "18:00:00",
          "13:48:00",
          "18:55:00",
          "16:08:00",
          "22:20:00",
          "16:20:00",
          "16:10:00",
          "10:35:00",
          "21:30:00",
          "14:34:00",
          "14:20:00",
          "18:13:00",
          "13:59:00",
          "20:14:00",
          "19:25:00",
          "18:00:00",
          "16:28:00",
          "16:26:00",
          "18:59:00",
          "20:04:00",
          "23:46:00",
          "20:01:00",
          "17:57:00",
          "20:36:00",
          "08:00:00",
          "11:05:00",
          "11:05:00",
          "17:38:00",
          "20:46:00",
          "23:00:00",
          "15:10:00",
          "23:58:00",
          "14:58:00",
          "20:05:00",
          "16:12:00",
          "19:36:00",
          "18:55:00",
          "01:43:00",
          "02:05:00",
          "23:02:00",
          "02:15:00",
          "04:19:00",
          "18:55:00",
          "20:50:00",
          "08:08:00",
          "18:45:00",
          "04:00:00",
          "21:00:00",
          "22:24:00",
          "18:04:00",
          "17:58:00",
          "17:00:00",
          "21:16:00",
          "15:05:00",
          "12:24:00",
          "14:06:00",
          "04:07:00",
          "01:11:00",
          "14:53:00",
          "17:20:00",
          "15:53:00",
          "11:00:00",
          "12:01:00",
          "11:00:00",
          "19:10:00",
          "05:07:00",
          "20:46:00",
          "07:25:00",
          "20:30:00",
          "20:26:00",
          "19:05:00",
          "17:00:00",
          "13:32:00",
          "17:32:00",
          "13:17:00",
          "15:22:00",
          "21:05:00",
          "00:33:00",
          "12:30:00",
          "18:48:00",
          "14:41:00",
          "18:42:00",
          "13:33:00",
          "09:36:00",
          "18:56:00",
          "17:15:00",
          "14:08:00",
          "22:10:00",
          "15:38:00",
          "20:32:00",
          "19:56:00",
          "20:32:00",
          "20:22:00",
          "20:45:00",
          "18:37:00",
          "02:58:00",
          "05:44:00",
          "15:55:00",
          "15:59:00",
          "00:24:00",
          "06:23:00",
          "10:49:00",
          "15:20:00",
          "21:52:00",
          "22:52:00",
          "19:16:00",
          "13:21:00",
          "18:16:00",
          "19:05:00",
          "20:35:00",
          "15:28:00",
          "20:10:00",
          "08:53:00",
          "14:42:00",
          "11:10:00",
          "04:30:00",
          "16:40:00",
          "20:22:00",
          "16:48:00",
          "02:02:00",
          "05:21:00",
          "16:58:00",
          "23:06:00",
          "18:35:00",
          "17:10:00",
          "20:25:00",
          "14:00:00",
          "09:19:00",
          "12:09:00",
          "23:05:00",
          "13:15:00",
          "19:38:00",
          "14:39:00",
          "03:13:00",
          "12:51:00",
          "21:55:00",
          "09:09:00",
          "19:04:00",
          "11:20:00",
          "07:45:00",
          "04:30:00",
          "16:40:00",
          "20:22:00",
          "16:48:00",
          "02:02:00",
          "05:21:00",
          "23:06:00",
          "16:58:00",
          "18:35:00",
          "17:10:00",
          "20:25:00",
          "14:00:00",
          "09:19:00",
          "12:09:00",
          "23:05:00",
          "04:30:00",
          "16:40:00",
          "20:22:00",
          "16:48:00",
          "02:02:00",
          "05:21:00",
          "16:58:00",
          "23:06:00",
          "18:35:00",
          "17:10:00",
          "20:25:00",
          "14:00:00",
          "09:19:00",
          "12:09:00",
          "23:05:00",
          "02:34:00",
          "16:36:00",
          "12:16:00",
          "06:59:00",
          "08:50:00",
          "16:34:00",
          "15:06:00",
          "14:52:00",
          "17:27:00",
          "17:00:00",
          "21:54:00",
          "18:49:00",
          "15:31:00",
          "16:12:00",
          "21:02:00",
          "11:32:00",
          "12:26:00",
          "14:36:00",
          "15:00:00",
          "16:50:00",
          "13:50:00",
          "22:09:00",
          "15:29:00",
          "20:06:00",
          "12:34:00",
          "16:59:00",
          "09:26:00",
          "15:29:00",
          "23:29:00",
          "08:59:00",
          "23:39:00",
          "13:46:00",
          "14:42:00",
          "14:24:00"
         ],
         "lat": [
          53.2667,
          53.27,
          53.2383,
          53.2583,
          53.2583,
          53.255,
          53.2383,
          53.2583,
          53.2583,
          53.2417,
          53.2433,
          53.2417,
          53.2417,
          53.2583,
          53.2417,
          53.2583,
          53.2417,
          53.2583,
          53.2583,
          53.2667,
          53.2667,
          53.2667,
          53.185,
          53.2333,
          53.2667,
          53.2667,
          53.27,
          53.2417,
          53.2617,
          53.2583,
          53.2533,
          53.2533,
          53.2667,
          53.2333,
          53.2417,
          53.2533,
          53.2667,
          53.25,
          53.2383,
          53.2417,
          53.1333,
          53.1717,
          53.2633,
          53.1533,
          53.2567,
          53.2037,
          53.1585,
          53.2567,
          53.2575,
          53.2604,
          53.2557,
          53.1905,
          53.2583,
          53.2583,
          53.2525,
          53.23,
          53.2456,
          53.2417,
          53.25899999999999,
          53.2458,
          53.2423,
          53.1317,
          53.2675,
          53.2584,
          53.2625,
          53.2639,
          53.2591,
          53.2917,
          53.2611,
          53.2587,
          53.2675,
          53.2667,
          53.2523,
          53.2641,
          53.2611,
          53.2805,
          53.25,
          53.25,
          53.2583,
          53.2558,
          53.2641,
          53.18,
          53.266000000000005,
          53.2392,
          53.2458,
          53.2675,
          53.1333,
          53.2533,
          53.2682,
          53.2659,
          53.187,
          53.2675,
          53.26,
          53.23,
          53.25,
          53.2767,
          53.25,
          53.2421,
          53.2812,
          53.1352,
          53.2671,
          53.2558,
          53.2577,
          53.2617,
          53.2517,
          53.2517,
          53.2517,
          53.2467,
          53.2417,
          53.2367,
          53.2432,
          53.245,
          53.245,
          53.2333,
          53.2442,
          53.2425,
          53.2675,
          53.2675,
          53.1583,
          53.1333,
          53.2363,
          53.1833,
          53.2541,
          53.2624,
          53.1657,
          53.2533,
          53.2489,
          53.2589,
          53.2681,
          53.2538,
          53.2682,
          53.2522,
          53.1738,
          53.25,
          53.2558,
          53.2217,
          53.135,
          53.2304,
          53.2508,
          53.2425,
          53.2406,
          53.2534,
          53.2508,
          53.2425,
          53.2426,
          53.2252,
          53.2633,
          53.2633,
          53.2311,
          53.1396,
          53.1509,
          53.2496,
          53.2659,
          53.2541,
          53.2624,
          53.2527,
          53.2169,
          53.2402,
          53.1538,
          53.2624,
          53.2407,
          53.2687,
          53.2405,
          53.248999999999995,
          53.2591,
          53.2333,
          53.2657,
          53.2667,
          53.2675,
          53.245,
          53.2572,
          53.2383,
          53.1244,
          53.225,
          53.125,
          53.2321,
          53.2417,
          53.2567,
          53.2388,
          53.2448,
          53.2605,
          53.2487,
          53.2428,
          53.2389,
          53.2417,
          53.275,
          53.25,
          53.25,
          53.25,
          53.2567,
          53.2667,
          53.1517,
          53.165,
          53.245,
          53.2583,
          53.2669,
          53.245,
          53.17,
          53.2533,
          53.254,
          53.2667,
          53.2247,
          53.24,
          53.2,
          53.1728,
          53.2662,
          53.2447,
          53.2508,
          53.26,
          53.15,
          53.266999999999996,
          53.2425,
          53.192,
          53.2237,
          53.254,
          53.2425,
          53.238,
          53.1888,
          53.15,
          53.2417,
          53.2208,
          53.25,
          53.1638,
          53.255,
          53.2583,
          53.2583,
          53.2717,
          53.2717,
          53.245,
          53.2677,
          53.2664,
          53.2664,
          53.224,
          53.224,
          53.2617,
          53.2617,
          53.2524,
          53.2599,
          53.2403,
          53.2567,
          53.2517,
          53.2335,
          53.2691,
          53.2691,
          53.2692,
          53.27,
          53.248999999999995,
          53.2667,
          53.2575,
          53.25,
          53.238,
          53.2667,
          53.2667,
          53.2566,
          53.2149,
          53.2683,
          53.1662,
          53.2391,
          53.2665,
          53.2662,
          53.2588,
          53.2489,
          53.2406,
          53.2583,
          53.2322,
          53.28236999999999,
          53.268519999999995,
          53.24,
          53.26905,
          53.26786,
          53.27276,
          53.25385,
          53.268919999999994,
          53.25714,
          53.26976,
          53.250640000000004,
          53.26976,
          53.2697,
          53.25525,
          53.25833000000001,
          53.26121,
          53.27398,
          53.24324,
          53.24833,
          53.26745,
          53.244780000000006,
          53.26899,
          53.23789,
          53.21528000000001,
          53.26781999999999,
          53.26804,
          53.26845,
          53.2685,
          53.23743,
          53.24904,
          53.26347,
          53.25566,
          53.25958000000001,
          53.2694,
          53.24426,
          53.26696,
          53.26105,
          53.267219999999995,
          53.267509999999994,
          53.1899,
          53.266690000000004,
          53.27016,
          53.26798,
          53.25946,
          53.28188000000001,
          53.25252,
          53.234759999999994,
          53.25923,
          53.2142,
          53.25971,
          53.26911,
          53.25489,
          53.24143,
          53.269580000000005,
          53.25238,
          53.25515,
          53.25833000000001,
          53.26944,
          53.24539,
          53.24329,
          53.24722,
          53.22551,
          53.26837,
          53.25844,
          53.267680000000006,
          53.26829,
          53.26129,
          53.140480000000004,
          53.267630000000004,
          53.25335,
          53.24892,
          53.268930000000005,
          53.26347,
          53.26823,
          53.26651999999999,
          53.25538,
          53.25895,
          53.26865,
          53.256069999999994,
          53.16036,
          53.25945,
          53.23226999999999,
          53.26944,
          53.24539,
          53.24329,
          53.24722,
          53.22551,
          53.26837,
          53.267680000000006,
          53.25844,
          53.26829,
          53.26129,
          53.140480000000004,
          53.267630000000004,
          53.25335,
          53.24892,
          53.268930000000005,
          53.26944,
          53.24539,
          53.24329,
          53.24722,
          53.22551,
          53.26837,
          53.25844,
          53.267680000000006,
          53.26829,
          53.26129,
          53.140480000000004,
          53.267630000000004,
          53.25335,
          53.24892,
          53.268930000000005,
          53.268809999999995,
          53.259409999999995,
          53.19481,
          53.26973,
          null,
          53.2457,
          53.261109999999995,
          53.267630000000004,
          53.24873,
          53.256569999999996,
          null,
          53.26093,
          53.25895,
          53.26177,
          53.24395,
          53.19333,
          null,
          53.25833000000001,
          53.2455,
          53.260490000000004,
          null,
          53.2419,
          53.171859999999995,
          53.250530000000005,
          53.25541,
          53.26322,
          53.2159,
          53.26161999999999,
          null,
          53.267959999999995,
          53.27151,
          53.23967,
          53.25546,
          53.26756999999999
         ],
         "legendgroup": "",
         "lon": [
          -9.0417,
          -8.97,
          -8.9917,
          -9.0633,
          -9,
          -9.09,
          -8.9917,
          -9.0417,
          -9.0667,
          -9,
          -9.1417,
          -9,
          -9,
          -9,
          -8.9667,
          -9,
          -9.0417,
          -9,
          -9,
          -9.0417,
          -9.0417,
          -9.0417,
          -9.0667,
          -9.3067,
          -9.0417,
          -9.0417,
          -9.0547,
          -8.9867,
          -9.0083,
          -9.05,
          -9.0833,
          -9.0667,
          -9.0417,
          -9.3555,
          -9.0033,
          -9.0833,
          -9.0167,
          -9.0033,
          -9.1,
          -8.9617,
          -9.1567,
          -8.9617,
          -9.05,
          -9.135,
          -9.0783,
          -9.0208,
          -9.1072,
          -9.05,
          -9.0883,
          -9.0233,
          -9.0522,
          -9.029,
          -9.0467,
          -9.0467,
          -9.0196,
          -9.0067,
          -9.0488,
          -9.1433,
          -9.0157,
          -9.1598,
          -9.3013,
          -9.1591,
          -9.0467,
          -9.0236,
          -9.0417,
          -9.0457,
          -9.0403,
          -9.0833,
          -9.0233,
          -9.0882,
          -9.0467,
          -9.0467,
          -9.0961,
          -9.0455,
          -9.0063,
          -9.0536,
          -9.0833,
          -9.0833,
          -9.0233,
          -9.0918,
          -9.0455,
          -8.9583,
          -9.0405,
          -9.3041,
          -9.2167,
          -9.05,
          -9.1333,
          -9.0567,
          -9.0423,
          -9.0172,
          -8.9975,
          -9.05,
          -9.025,
          -9.1817,
          -9.1,
          -9.025,
          -9.0217,
          -8.9973,
          -9.0528,
          -9.1422,
          -9.0495,
          -9.09,
          -9.0665,
          -9.0217,
          -9.0917,
          -9.0917,
          -9.1217,
          -9.1483,
          -9.1583,
          -9.0033,
          -8.984,
          -9.0183,
          -9.0183,
          -9.31,
          -9.0811,
          -8.9833,
          -9.025,
          -9.05,
          -9.2667,
          -9.1667,
          -9.165,
          -9.1667,
          -9.0808,
          -9.064,
          -8.9633,
          -9.0565,
          -9.0789,
          -9.019,
          -9.0433,
          -9.0681,
          -9.0406,
          -9.0672,
          -9.163,
          -9.055,
          -9.0183,
          -9.07,
          -9.1633,
          -8.9911,
          -9.0417,
          -9.2133,
          -8.9741,
          -9.1037,
          -9.0917,
          -9.22,
          -9.1759,
          -9.1978,
          -9.0075,
          -9.0417,
          -9.3462,
          -9.148,
          -8.9381,
          -9.0411,
          -9.046,
          -9.0692,
          -9.0272,
          -8.9761,
          -9.3006,
          -9.2959,
          -9.261000000000001,
          -9.0354,
          -8.9652,
          -9.0518,
          -9.0821,
          -9.0288,
          -9.0172,
          -8.9833,
          -9.0356,
          -9.025,
          -9.035,
          -9.0667,
          -9.0229,
          -9.7839,
          -9.14,
          -9.3205,
          -9.145,
          -9.2631,
          -9.0667,
          -9.0917,
          -9.0619,
          -9.0424,
          -9.0178,
          -9.0791,
          -8.9823,
          -9.3068,
          -9.2217,
          -9.0567,
          -9.0567,
          -9.0883,
          -9.0733,
          -9.1083,
          -9.05,
          -8.9483,
          -8.955,
          -8.98,
          -8.975,
          -9.0489,
          -8.997,
          -9.0033,
          -9.1,
          -9.0151,
          -9.035,
          -9.4286,
          -9.3008,
          -9.2,
          -9.052999999999999,
          -9.0374,
          -9.1659,
          -9,
          -9.025,
          -9.1667,
          -9.0417,
          -9.15,
          -9.0247,
          -9.1286,
          -9.0291,
          -8.96,
          -9.1403,
          -9.5148,
          -9.1517,
          -9.1333,
          -9.3567,
          -9.09,
          -9.0847,
          -9.0687,
          -9.0233,
          -8.975,
          -9.0383,
          -9.0417,
          -9.1217,
          -9.0408,
          -9.0489,
          -9.0489,
          -9.0368,
          -9.0368,
          -9.0283,
          -9.0283,
          -9.0796,
          -9.0184,
          -9.2951,
          -9.0917,
          -9.0417,
          -9.1464,
          -9.0452,
          -9.0533,
          -9.0482,
          -9.05,
          -9.0288,
          -9.0417,
          -9.0403,
          -9.0833,
          -9.0833,
          -9.0417,
          -9.0467,
          -9.0742,
          -9.2959,
          -9.0467,
          -9.0354,
          -9.0023,
          -9.0468,
          -9.0437,
          -9.0486,
          -8.9955,
          -9.0706,
          -9.0467,
          -9.1292,
          -9.06051,
          -9.04922,
          -9.22833,
          -9.04773,
          -9.04458,
          -9.05591,
          -9.05681,
          -9.04508,
          -9.08351,
          -9.055,
          -9.12969,
          -9.05475,
          -9.054839999999999,
          -9.09172,
          -9.025,
          -9.027330000000001,
          -9.05568,
          -9.09983,
          -9.081669999999999,
          -9.04733,
          -8.98664,
          -9.019260000000001,
          -9.30799,
          -9.11144,
          -9.03812,
          -9.051169999999999,
          -9.052480000000001,
          -9.052389999999999,
          -9.05728,
          -9.14792,
          -9.01943,
          -9.113760000000001,
          -9.025269999999999,
          -9.05037,
          -9.13238,
          -9.04384,
          -9.02214,
          -9.04911,
          -9.04952,
          -8.967,
          -9.01939,
          -9.05545,
          -9.05295,
          -9.044130000000001,
          -9.05913,
          -8.98215,
          -9.11313,
          -9.02609,
          -9.30217,
          -9.026060000000001,
          -9.05371,
          -9.08403,
          -9.08889,
          -9.0548,
          -9.05366,
          -9.09246,
          -9.07222,
          -9.04828,
          -9.13054,
          -9.13522,
          -9.0861,
          -9.0251,
          -9.05175,
          -9.026639999999999,
          -9.04514,
          -9.02033,
          -9.06814,
          -8.936869999999999,
          -9.05226,
          -9.08681,
          -9.14837,
          -9.05278,
          -9.03423,
          -9.054089999999999,
          -9.042539999999999,
          -9.08415,
          -9.02518,
          -9.05226,
          -9.042689999999999,
          -9.30541,
          -9.02379,
          -9.01179,
          -9.04828,
          -9.13054,
          -9.13522,
          -9.0861,
          -9.0251,
          -9.05175,
          -9.04514,
          -9.026639999999999,
          -9.02033,
          -9.06814,
          -8.936869999999999,
          -9.05226,
          -9.08681,
          -9.14837,
          -9.05278,
          -9.04828,
          -9.13054,
          -9.13522,
          -9.0861,
          -9.0251,
          -9.05175,
          -9.026639999999999,
          -9.04514,
          -9.02033,
          -9.06814,
          -8.936869999999999,
          -9.05226,
          -9.08681,
          -9.14837,
          -9.05278,
          -9.04766,
          -9.02355,
          -8.9642,
          -9.01877,
          null,
          -9.12689,
          -9.02784,
          -9.01966,
          -9.14386,
          -9.09196,
          null,
          -9.06959,
          -9.02009,
          -9.02258,
          -8.96693,
          -8.96833,
          null,
          -9.02475,
          -9.12792,
          -9.0224,
          null,
          -9.228860000000001,
          -8.99028,
          -9.048210000000001,
          -9.0667,
          -9.00825,
          -9.3108,
          -9.06612,
          null,
          -9.05306,
          -9.05599,
          -9.10988,
          -9.087639999999999,
          -9.05125
         ],
         "marker": {
          "color": [
           2016,
           2016,
           2016,
           2016,
           2016,
           2016,
           2016,
           2016,
           2016,
           2016,
           2016,
           2016,
           2016,
           2016,
           2016,
           2016,
           2016,
           2016,
           2016,
           2016,
           2016,
           2016,
           2016,
           2016,
           2016,
           2016,
           2016,
           2016,
           2016,
           2016,
           2016,
           2016,
           2016,
           2016,
           2016,
           2016,
           2016,
           2016,
           2016,
           2016,
           2016,
           2016,
           2016,
           2016,
           2016,
           2016,
           2016,
           2016,
           2015,
           2008,
           2009,
           2009,
           2012,
           2012,
           2011,
           2015,
           2010,
           2012,
           2010,
           2013,
           2014,
           2008,
           2014,
           2011,
           2013,
           2011,
           2010,
           2013,
           2008,
           2008,
           2014,
           2014,
           2010,
           2011,
           2011,
           2008,
           2014,
           2014,
           2012,
           2012,
           2011,
           2014,
           2010,
           2010,
           2014,
           2014,
           2015,
           2015,
           2011,
           2008,
           2008,
           2014,
           2014,
           2012,
           2012,
           2013,
           2013,
           2008,
           2008,
           2008,
           2013,
           2012,
           2012,
           2014,
           2014,
           2014,
           2012,
           2013,
           2013,
           2013,
           2013,
           2013,
           2013,
           2013,
           2008,
           2014,
           2014,
           2014,
           2014,
           2012,
           2008,
           2012,
           2008,
           2008,
           2008,
           2010,
           2010,
           2010,
           2011,
           2011,
           2011,
           2011,
           2011,
           2013,
           2012,
           2013,
           2013,
           2011,
           2014,
           2014,
           2011,
           2010,
           2014,
           2014,
           2010,
           2011,
           2013,
           2013,
           2009,
           2010,
           2009,
           2009,
           2009,
           2009,
           2009,
           2009,
           2009,
           2010,
           2009,
           2009,
           2009,
           2009,
           2009,
           2009,
           2009,
           2015,
           2010,
           2012,
           2012,
           2012,
           2011,
           2008,
           2008,
           2015,
           2015,
           2010,
           2012,
           2013,
           2011,
           2011,
           2011,
           2011,
           2011,
           2011,
           2013,
           2015,
           2015,
           2013,
           2013,
           2013,
           2012,
           2012,
           2013,
           2012,
           2015,
           2015,
           2015,
           2015,
           2015,
           2009,
           2012,
           2011,
           2012,
           2014,
           2010,
           2010,
           2010,
           2014,
           2014,
           2014,
           2014,
           2014,
           2008,
           2008,
           2008,
           2008,
           2014,
           2009,
           2013,
           2013,
           2015,
           2014,
           2012,
           2015,
           2015,
           2015,
           2015,
           2015,
           2015,
           2008,
           2008,
           2008,
           2009,
           2009,
           2013,
           2013,
           2010,
           2010,
           2009,
           2012,
           2012,
           2009,
           2011,
           2011,
           2014,
           2013,
           2008,
           2015,
           2008,
           2014,
           2014,
           2015,
           2013,
           2010,
           2008,
           2013,
           2010,
           2009,
           2011,
           2010,
           2010,
           2009,
           2011,
           2011,
           2009,
           2019,
           2019,
           2019,
           2019,
           2018,
           2018,
           2017,
           2017,
           2017,
           2017,
           2017,
           2017,
           2017,
           2018,
           2017,
           2018,
           2018,
           2019,
           2017,
           2019,
           2019,
           2019,
           2019,
           2019,
           2019,
           2019,
           2019,
           2019,
           2019,
           2019,
           2019,
           2019,
           2019,
           2019,
           2019,
           2017,
           2017,
           2018,
           2017,
           2017,
           2017,
           2018,
           2018,
           2018,
           2017,
           2017,
           2017,
           2018,
           2017,
           2017,
           2017,
           2017,
           2017,
           2017,
           2017,
           2017,
           2017,
           2019,
           2019,
           2019,
           2019,
           2019,
           2019,
           2019,
           2019,
           2019,
           2019,
           2019,
           2019,
           2019,
           2019,
           2019,
           2018,
           2018,
           2018,
           2018,
           2018,
           2018,
           2018,
           2018,
           2018,
           2018,
           2019,
           2019,
           2019,
           2019,
           2019,
           2019,
           2019,
           2019,
           2019,
           2019,
           2019,
           2019,
           2019,
           2019,
           2019,
           2019,
           2019,
           2019,
           2019,
           2019,
           2019,
           2019,
           2019,
           2019,
           2019,
           2019,
           2019,
           2019,
           2019,
           2019,
           2020,
           2020,
           2020,
           2020,
           2020,
           2020,
           2020,
           2020,
           2020,
           2020,
           2020,
           2020,
           2020,
           2020,
           2020,
           2020,
           2020,
           2020,
           2020,
           2020,
           2020,
           2020,
           2020,
           2020,
           2020,
           2020,
           2020,
           2020,
           2020,
           2020,
           2020,
           2020,
           2020,
           2020
          ],
          "coloraxis": "coloraxis"
         },
         "mode": "markers",
         "name": "",
         "showlegend": false,
         "subplot": "mapbox",
         "type": "scattermapbox"
        }
       ],
       "layout": {
        "coloraxis": {
         "colorbar": {
          "title": {
           "text": "YearOfCall"
          }
         },
         "colorscale": [
          [
           0,
           "#0d0887"
          ],
          [
           0.1111111111111111,
           "#46039f"
          ],
          [
           0.2222222222222222,
           "#7201a8"
          ],
          [
           0.3333333333333333,
           "#9c179e"
          ],
          [
           0.4444444444444444,
           "#bd3786"
          ],
          [
           0.5555555555555556,
           "#d8576b"
          ],
          [
           0.6666666666666666,
           "#ed7953"
          ],
          [
           0.7777777777777778,
           "#fb9f3a"
          ],
          [
           0.8888888888888888,
           "#fdca26"
          ],
          [
           1,
           "#f0f921"
          ]
         ]
        },
        "legend": {
         "tracegroupgap": 0
        },
        "mapbox": {
         "accesstoken": "pk.eyJ1Ijoic2hhbmVwYXVzdGluIiwiYSI6ImNreHA2azBmcDA2dDYzM3RoZjN2dHU0bTcifQ.FwuIpzahKyMH0-giO2mpRw",
         "center": {
          "lat": 53.24504706896551,
          "lon": -9.073099236453197
         },
         "domain": {
          "x": [
           0,
           1
          ],
          "y": [
           0,
           1
          ]
         },
         "zoom": 10
        },
        "margin": {
         "t": 60
        },
        "template": {
         "data": {
          "bar": [
           {
            "error_x": {
             "color": "#2a3f5f"
            },
            "error_y": {
             "color": "#2a3f5f"
            },
            "marker": {
             "line": {
              "color": "#E5ECF6",
              "width": 0.5
             },
             "pattern": {
              "fillmode": "overlay",
              "size": 10,
              "solidity": 0.2
             }
            },
            "type": "bar"
           }
          ],
          "barpolar": [
           {
            "marker": {
             "line": {
              "color": "#E5ECF6",
              "width": 0.5
             },
             "pattern": {
              "fillmode": "overlay",
              "size": 10,
              "solidity": 0.2
             }
            },
            "type": "barpolar"
           }
          ],
          "carpet": [
           {
            "aaxis": {
             "endlinecolor": "#2a3f5f",
             "gridcolor": "white",
             "linecolor": "white",
             "minorgridcolor": "white",
             "startlinecolor": "#2a3f5f"
            },
            "baxis": {
             "endlinecolor": "#2a3f5f",
             "gridcolor": "white",
             "linecolor": "white",
             "minorgridcolor": "white",
             "startlinecolor": "#2a3f5f"
            },
            "type": "carpet"
           }
          ],
          "choropleth": [
           {
            "colorbar": {
             "outlinewidth": 0,
             "ticks": ""
            },
            "type": "choropleth"
           }
          ],
          "contour": [
           {
            "colorbar": {
             "outlinewidth": 0,
             "ticks": ""
            },
            "colorscale": [
             [
              0,
              "#0d0887"
             ],
             [
              0.1111111111111111,
              "#46039f"
             ],
             [
              0.2222222222222222,
              "#7201a8"
             ],
             [
              0.3333333333333333,
              "#9c179e"
             ],
             [
              0.4444444444444444,
              "#bd3786"
             ],
             [
              0.5555555555555556,
              "#d8576b"
             ],
             [
              0.6666666666666666,
              "#ed7953"
             ],
             [
              0.7777777777777778,
              "#fb9f3a"
             ],
             [
              0.8888888888888888,
              "#fdca26"
             ],
             [
              1,
              "#f0f921"
             ]
            ],
            "type": "contour"
           }
          ],
          "contourcarpet": [
           {
            "colorbar": {
             "outlinewidth": 0,
             "ticks": ""
            },
            "type": "contourcarpet"
           }
          ],
          "heatmap": [
           {
            "colorbar": {
             "outlinewidth": 0,
             "ticks": ""
            },
            "colorscale": [
             [
              0,
              "#0d0887"
             ],
             [
              0.1111111111111111,
              "#46039f"
             ],
             [
              0.2222222222222222,
              "#7201a8"
             ],
             [
              0.3333333333333333,
              "#9c179e"
             ],
             [
              0.4444444444444444,
              "#bd3786"
             ],
             [
              0.5555555555555556,
              "#d8576b"
             ],
             [
              0.6666666666666666,
              "#ed7953"
             ],
             [
              0.7777777777777778,
              "#fb9f3a"
             ],
             [
              0.8888888888888888,
              "#fdca26"
             ],
             [
              1,
              "#f0f921"
             ]
            ],
            "type": "heatmap"
           }
          ],
          "heatmapgl": [
           {
            "colorbar": {
             "outlinewidth": 0,
             "ticks": ""
            },
            "colorscale": [
             [
              0,
              "#0d0887"
             ],
             [
              0.1111111111111111,
              "#46039f"
             ],
             [
              0.2222222222222222,
              "#7201a8"
             ],
             [
              0.3333333333333333,
              "#9c179e"
             ],
             [
              0.4444444444444444,
              "#bd3786"
             ],
             [
              0.5555555555555556,
              "#d8576b"
             ],
             [
              0.6666666666666666,
              "#ed7953"
             ],
             [
              0.7777777777777778,
              "#fb9f3a"
             ],
             [
              0.8888888888888888,
              "#fdca26"
             ],
             [
              1,
              "#f0f921"
             ]
            ],
            "type": "heatmapgl"
           }
          ],
          "histogram": [
           {
            "marker": {
             "pattern": {
              "fillmode": "overlay",
              "size": 10,
              "solidity": 0.2
             }
            },
            "type": "histogram"
           }
          ],
          "histogram2d": [
           {
            "colorbar": {
             "outlinewidth": 0,
             "ticks": ""
            },
            "colorscale": [
             [
              0,
              "#0d0887"
             ],
             [
              0.1111111111111111,
              "#46039f"
             ],
             [
              0.2222222222222222,
              "#7201a8"
             ],
             [
              0.3333333333333333,
              "#9c179e"
             ],
             [
              0.4444444444444444,
              "#bd3786"
             ],
             [
              0.5555555555555556,
              "#d8576b"
             ],
             [
              0.6666666666666666,
              "#ed7953"
             ],
             [
              0.7777777777777778,
              "#fb9f3a"
             ],
             [
              0.8888888888888888,
              "#fdca26"
             ],
             [
              1,
              "#f0f921"
             ]
            ],
            "type": "histogram2d"
           }
          ],
          "histogram2dcontour": [
           {
            "colorbar": {
             "outlinewidth": 0,
             "ticks": ""
            },
            "colorscale": [
             [
              0,
              "#0d0887"
             ],
             [
              0.1111111111111111,
              "#46039f"
             ],
             [
              0.2222222222222222,
              "#7201a8"
             ],
             [
              0.3333333333333333,
              "#9c179e"
             ],
             [
              0.4444444444444444,
              "#bd3786"
             ],
             [
              0.5555555555555556,
              "#d8576b"
             ],
             [
              0.6666666666666666,
              "#ed7953"
             ],
             [
              0.7777777777777778,
              "#fb9f3a"
             ],
             [
              0.8888888888888888,
              "#fdca26"
             ],
             [
              1,
              "#f0f921"
             ]
            ],
            "type": "histogram2dcontour"
           }
          ],
          "mesh3d": [
           {
            "colorbar": {
             "outlinewidth": 0,
             "ticks": ""
            },
            "type": "mesh3d"
           }
          ],
          "parcoords": [
           {
            "line": {
             "colorbar": {
              "outlinewidth": 0,
              "ticks": ""
             }
            },
            "type": "parcoords"
           }
          ],
          "pie": [
           {
            "automargin": true,
            "type": "pie"
           }
          ],
          "scatter": [
           {
            "marker": {
             "colorbar": {
              "outlinewidth": 0,
              "ticks": ""
             }
            },
            "type": "scatter"
           }
          ],
          "scatter3d": [
           {
            "line": {
             "colorbar": {
              "outlinewidth": 0,
              "ticks": ""
             }
            },
            "marker": {
             "colorbar": {
              "outlinewidth": 0,
              "ticks": ""
             }
            },
            "type": "scatter3d"
           }
          ],
          "scattercarpet": [
           {
            "marker": {
             "colorbar": {
              "outlinewidth": 0,
              "ticks": ""
             }
            },
            "type": "scattercarpet"
           }
          ],
          "scattergeo": [
           {
            "marker": {
             "colorbar": {
              "outlinewidth": 0,
              "ticks": ""
             }
            },
            "type": "scattergeo"
           }
          ],
          "scattergl": [
           {
            "marker": {
             "colorbar": {
              "outlinewidth": 0,
              "ticks": ""
             }
            },
            "type": "scattergl"
           }
          ],
          "scattermapbox": [
           {
            "marker": {
             "colorbar": {
              "outlinewidth": 0,
              "ticks": ""
             }
            },
            "type": "scattermapbox"
           }
          ],
          "scatterpolar": [
           {
            "marker": {
             "colorbar": {
              "outlinewidth": 0,
              "ticks": ""
             }
            },
            "type": "scatterpolar"
           }
          ],
          "scatterpolargl": [
           {
            "marker": {
             "colorbar": {
              "outlinewidth": 0,
              "ticks": ""
             }
            },
            "type": "scatterpolargl"
           }
          ],
          "scatterternary": [
           {
            "marker": {
             "colorbar": {
              "outlinewidth": 0,
              "ticks": ""
             }
            },
            "type": "scatterternary"
           }
          ],
          "surface": [
           {
            "colorbar": {
             "outlinewidth": 0,
             "ticks": ""
            },
            "colorscale": [
             [
              0,
              "#0d0887"
             ],
             [
              0.1111111111111111,
              "#46039f"
             ],
             [
              0.2222222222222222,
              "#7201a8"
             ],
             [
              0.3333333333333333,
              "#9c179e"
             ],
             [
              0.4444444444444444,
              "#bd3786"
             ],
             [
              0.5555555555555556,
              "#d8576b"
             ],
             [
              0.6666666666666666,
              "#ed7953"
             ],
             [
              0.7777777777777778,
              "#fb9f3a"
             ],
             [
              0.8888888888888888,
              "#fdca26"
             ],
             [
              1,
              "#f0f921"
             ]
            ],
            "type": "surface"
           }
          ],
          "table": [
           {
            "cells": {
             "fill": {
              "color": "#EBF0F8"
             },
             "line": {
              "color": "white"
             }
            },
            "header": {
             "fill": {
              "color": "#C8D4E3"
             },
             "line": {
              "color": "white"
             }
            },
            "type": "table"
           }
          ]
         },
         "layout": {
          "annotationdefaults": {
           "arrowcolor": "#2a3f5f",
           "arrowhead": 0,
           "arrowwidth": 1
          },
          "autotypenumbers": "strict",
          "coloraxis": {
           "colorbar": {
            "outlinewidth": 0,
            "ticks": ""
           }
          },
          "colorscale": {
           "diverging": [
            [
             0,
             "#8e0152"
            ],
            [
             0.1,
             "#c51b7d"
            ],
            [
             0.2,
             "#de77ae"
            ],
            [
             0.3,
             "#f1b6da"
            ],
            [
             0.4,
             "#fde0ef"
            ],
            [
             0.5,
             "#f7f7f7"
            ],
            [
             0.6,
             "#e6f5d0"
            ],
            [
             0.7,
             "#b8e186"
            ],
            [
             0.8,
             "#7fbc41"
            ],
            [
             0.9,
             "#4d9221"
            ],
            [
             1,
             "#276419"
            ]
           ],
           "sequential": [
            [
             0,
             "#0d0887"
            ],
            [
             0.1111111111111111,
             "#46039f"
            ],
            [
             0.2222222222222222,
             "#7201a8"
            ],
            [
             0.3333333333333333,
             "#9c179e"
            ],
            [
             0.4444444444444444,
             "#bd3786"
            ],
            [
             0.5555555555555556,
             "#d8576b"
            ],
            [
             0.6666666666666666,
             "#ed7953"
            ],
            [
             0.7777777777777778,
             "#fb9f3a"
            ],
            [
             0.8888888888888888,
             "#fdca26"
            ],
            [
             1,
             "#f0f921"
            ]
           ],
           "sequentialminus": [
            [
             0,
             "#0d0887"
            ],
            [
             0.1111111111111111,
             "#46039f"
            ],
            [
             0.2222222222222222,
             "#7201a8"
            ],
            [
             0.3333333333333333,
             "#9c179e"
            ],
            [
             0.4444444444444444,
             "#bd3786"
            ],
            [
             0.5555555555555556,
             "#d8576b"
            ],
            [
             0.6666666666666666,
             "#ed7953"
            ],
            [
             0.7777777777777778,
             "#fb9f3a"
            ],
            [
             0.8888888888888888,
             "#fdca26"
            ],
            [
             1,
             "#f0f921"
            ]
           ]
          },
          "colorway": [
           "#636efa",
           "#EF553B",
           "#00cc96",
           "#ab63fa",
           "#FFA15A",
           "#19d3f3",
           "#FF6692",
           "#B6E880",
           "#FF97FF",
           "#FECB52"
          ],
          "font": {
           "color": "#2a3f5f"
          },
          "geo": {
           "bgcolor": "white",
           "lakecolor": "white",
           "landcolor": "#E5ECF6",
           "showlakes": true,
           "showland": true,
           "subunitcolor": "white"
          },
          "hoverlabel": {
           "align": "left"
          },
          "hovermode": "closest",
          "mapbox": {
           "style": "light"
          },
          "paper_bgcolor": "white",
          "plot_bgcolor": "#E5ECF6",
          "polar": {
           "angularaxis": {
            "gridcolor": "white",
            "linecolor": "white",
            "ticks": ""
           },
           "bgcolor": "#E5ECF6",
           "radialaxis": {
            "gridcolor": "white",
            "linecolor": "white",
            "ticks": ""
           }
          },
          "scene": {
           "xaxis": {
            "backgroundcolor": "#E5ECF6",
            "gridcolor": "white",
            "gridwidth": 2,
            "linecolor": "white",
            "showbackground": true,
            "ticks": "",
            "zerolinecolor": "white"
           },
           "yaxis": {
            "backgroundcolor": "#E5ECF6",
            "gridcolor": "white",
            "gridwidth": 2,
            "linecolor": "white",
            "showbackground": true,
            "ticks": "",
            "zerolinecolor": "white"
           },
           "zaxis": {
            "backgroundcolor": "#E5ECF6",
            "gridcolor": "white",
            "gridwidth": 2,
            "linecolor": "white",
            "showbackground": true,
            "ticks": "",
            "zerolinecolor": "white"
           }
          },
          "shapedefaults": {
           "line": {
            "color": "#2a3f5f"
           }
          },
          "ternary": {
           "aaxis": {
            "gridcolor": "white",
            "linecolor": "white",
            "ticks": ""
           },
           "baxis": {
            "gridcolor": "white",
            "linecolor": "white",
            "ticks": ""
           },
           "bgcolor": "#E5ECF6",
           "caxis": {
            "gridcolor": "white",
            "linecolor": "white",
            "ticks": ""
           }
          },
          "title": {
           "x": 0.05
          },
          "xaxis": {
           "automargin": true,
           "gridcolor": "white",
           "linecolor": "white",
           "ticks": "",
           "title": {
            "standoff": 15
           },
           "zerolinecolor": "white",
           "zerolinewidth": 2
          },
          "yaxis": {
           "automargin": true,
           "gridcolor": "white",
           "linecolor": "white",
           "ticks": "",
           "title": {
            "standoff": 15
           },
           "zerolinecolor": "white",
           "zerolinewidth": 2
          }
         }
        }
       }
      },
      "text/html": [
       "<div>                            <div id=\"4f39441e-6f1b-4e50-8811-ae25b3416003\" class=\"plotly-graph-div\" style=\"height:525px; width:100%;\"></div>            <script type=\"text/javascript\">                require([\"plotly\"], function(Plotly) {                    window.PLOTLYENV=window.PLOTLYENV || {};                                    if (document.getElementById(\"4f39441e-6f1b-4e50-8811-ae25b3416003\")) {                    Plotly.newPlot(                        \"4f39441e-6f1b-4e50-8811-ae25b3416003\",                        [{\"hovertemplate\":\"<b>%{hovertext}</b><br><br>Y=%{lat}<br>X=%{lon}<br>YearOfCall=%{marker.color}<extra></extra>\",\"hovertext\":[\"02:47:00\",\"14:22:00\",\"12:38:00\",\"02:40:00\",\"12:00:00\",\"13:24:00\",\"10:22:00\",\"18:14:00\",\"23:10:00\",\"13:10:00\",\"18:59:00\",\"14:00:00\",\"10:30:00\",\"11:45:00\",\"11:45:00\",\"13:00:00\",\"08:15:00\",\"10:05:00\",\"18:00:00\",\"12:30:00\",\"16:00:00\",\"18:00:00\",\"12:54:00\",\"18:08:00\",\"12:23:00\",\"21:31:00\",\"16:07:00\",\"15:30:00\",\"15:19:00\",\"16:22:00\",\"13:53:00\",\"14:05:00\",\"22:49:00\",\"16:25:00\",\"19:21:00\",\"21:41:00\",\"18:45:00\",\"11:55:00\",\"19:02:00\",\"18:17:00\",\"17:22:00\",\"15:30:00\",\"12:50:00\",\"14:19:00\",\"15:36:00\",\"15:45:00\",\"14:54:00\",\"00:29:00\",\"01:08:00\",\"19:35:00\",\"22:20:00\",\"16:00:00\",\"19:12:00\",\"03:20:00\",\"18:52:00\",\"15:00:00\",\"15:05:00\",\"10:00:00\",\"13:36:00\",\"12:40:00\",\"15:20:00\",\"15:00:00\",\"18:27:00\",\"01:45:00\",\"08:35:00\",\"17:25:00\",\"04:02:00\",\"16:10:00\",\"00:25:00\",\"11:40:00\",\"23:56:00\",\"22:10:00\",\"17:20:00\",\"08:00:00\",\"08:00:00\",\"03:15:00\",\"16:30:00\",\"10:05:00\",\"19:17:00\",\"16:50:00\",\"19:50:00\",\"14:50:00\",\"03:06:00\",\"15:15:00\",\"16:00:00\",\"21:02:00\",\"20:32:00\",\"20:43:00\",\"16:32:00\",\"13:25:00\",\"16:33:00\",\"03:00:00\",\"13:56:00\",\"12:50:00\",\"20:48:00\",\"16:16:00\",\"13:02:00\",\"17:00:00\",\"13:45:00\",\"17:35:00\",\"19:30:00\",\"13:03:00\",\"13:35:00\",\"12:30:00\",\"06:11:00\",\"10:04:00\",\"15:38:00\",\"11:03:00\",\"18:12:00\",\"15:50:00\",\"14:30:00\",\"20:49:00\",\"13:50:00\",\"16:00:00\",\"04:39:00\",\"17:00:00\",\"17:57:00\",\"18:23:00\",\"21:34:00\",\"16:16:00\",\"12:41:00\",\"21:55:00\",\"19:35:00\",\"16:07:00\",\"11:10:00\",\"16:00:00\",\"15:24:00\",\"16:37:00\",\"02:04:00\",\"19:50:00\",\"16:58:00\",\"17:15:00\",\"09:48:00\",\"16:35:00\",\"13:47:00\",\"19:30:00\",\"23:47:00\",\"13:34:00\",\"09:45:00\",\"07:19:00\",\"21:59:00\",\"20:01:00\",\"22:03:00\",\"19:30:00\",\"18:40:00\",\"12:29:00\",\"15:47:00\",\"21:23:00\",\"18:08:00\",\"16:49:00\",\"19:10:00\",\"02:51:00\",\"05:15:00\",\"11:40:00\",\"09:31:00\",\"18:14:00\",\"23:25:00\",\"09:30:00\",\"03:52:00\",\"11:36:00\",\"13:48:00\",\"01:20:00\",\"15:25:00\",\"15:25:00\",\"14:03:00\",\"14:19:00\",\"05:55:00\",\"18:15:00\",\"17:48:00\",\"09:20:00\",\"09:45:00\",\"12:58:00\",\"21:20:00\",\"23:11:00\",\"19:00:00\",\"04:15:00\",\"11:20:00\",\"07:56:00\",\"20:32:00\",\"16:10:00\",\"18:23:00\",\"18:23:00\",\"19:58:00\",\"17:02:00\",\"16:32:00\",\"23:05:00\",\"21:28:00\",\"14:45:00\",\"16:01:00\",\"23:06:00\",\"02:12:00\",\"12:55:00\",\"18:36:00\",\"15:40:00\",\"11:55:00\",\"23:13:00\",\"17:18:00\",\"23:33:00\",\"18:50:00\",\"20:18:00\",\"16:47:00\",\"16:35:00\",\"12:52:00\",\"20:11:00\",\"19:30:00\",\"10:50:00\",\"13:45:00\",\"18:00:00\",\"13:48:00\",\"18:55:00\",\"16:08:00\",\"22:20:00\",\"16:20:00\",\"16:10:00\",\"10:35:00\",\"21:30:00\",\"14:34:00\",\"14:20:00\",\"18:13:00\",\"13:59:00\",\"20:14:00\",\"19:25:00\",\"18:00:00\",\"16:28:00\",\"16:26:00\",\"18:59:00\",\"20:04:00\",\"23:46:00\",\"20:01:00\",\"17:57:00\",\"20:36:00\",\"08:00:00\",\"11:05:00\",\"11:05:00\",\"17:38:00\",\"20:46:00\",\"23:00:00\",\"15:10:00\",\"23:58:00\",\"14:58:00\",\"20:05:00\",\"16:12:00\",\"19:36:00\",\"18:55:00\",\"01:43:00\",\"02:05:00\",\"23:02:00\",\"02:15:00\",\"04:19:00\",\"18:55:00\",\"20:50:00\",\"08:08:00\",\"18:45:00\",\"04:00:00\",\"21:00:00\",\"22:24:00\",\"18:04:00\",\"17:58:00\",\"17:00:00\",\"21:16:00\",\"15:05:00\",\"12:24:00\",\"14:06:00\",\"04:07:00\",\"01:11:00\",\"14:53:00\",\"17:20:00\",\"15:53:00\",\"11:00:00\",\"12:01:00\",\"11:00:00\",\"19:10:00\",\"05:07:00\",\"20:46:00\",\"07:25:00\",\"20:30:00\",\"20:26:00\",\"19:05:00\",\"17:00:00\",\"13:32:00\",\"17:32:00\",\"13:17:00\",\"15:22:00\",\"21:05:00\",\"00:33:00\",\"12:30:00\",\"18:48:00\",\"14:41:00\",\"18:42:00\",\"13:33:00\",\"09:36:00\",\"18:56:00\",\"17:15:00\",\"14:08:00\",\"22:10:00\",\"15:38:00\",\"20:32:00\",\"19:56:00\",\"20:32:00\",\"20:22:00\",\"20:45:00\",\"18:37:00\",\"02:58:00\",\"05:44:00\",\"15:55:00\",\"15:59:00\",\"00:24:00\",\"06:23:00\",\"10:49:00\",\"15:20:00\",\"21:52:00\",\"22:52:00\",\"19:16:00\",\"13:21:00\",\"18:16:00\",\"19:05:00\",\"20:35:00\",\"15:28:00\",\"20:10:00\",\"08:53:00\",\"14:42:00\",\"11:10:00\",\"04:30:00\",\"16:40:00\",\"20:22:00\",\"16:48:00\",\"02:02:00\",\"05:21:00\",\"16:58:00\",\"23:06:00\",\"18:35:00\",\"17:10:00\",\"20:25:00\",\"14:00:00\",\"09:19:00\",\"12:09:00\",\"23:05:00\",\"13:15:00\",\"19:38:00\",\"14:39:00\",\"03:13:00\",\"12:51:00\",\"21:55:00\",\"09:09:00\",\"19:04:00\",\"11:20:00\",\"07:45:00\",\"04:30:00\",\"16:40:00\",\"20:22:00\",\"16:48:00\",\"02:02:00\",\"05:21:00\",\"23:06:00\",\"16:58:00\",\"18:35:00\",\"17:10:00\",\"20:25:00\",\"14:00:00\",\"09:19:00\",\"12:09:00\",\"23:05:00\",\"04:30:00\",\"16:40:00\",\"20:22:00\",\"16:48:00\",\"02:02:00\",\"05:21:00\",\"16:58:00\",\"23:06:00\",\"18:35:00\",\"17:10:00\",\"20:25:00\",\"14:00:00\",\"09:19:00\",\"12:09:00\",\"23:05:00\",\"02:34:00\",\"16:36:00\",\"12:16:00\",\"06:59:00\",\"08:50:00\",\"16:34:00\",\"15:06:00\",\"14:52:00\",\"17:27:00\",\"17:00:00\",\"21:54:00\",\"18:49:00\",\"15:31:00\",\"16:12:00\",\"21:02:00\",\"11:32:00\",\"12:26:00\",\"14:36:00\",\"15:00:00\",\"16:50:00\",\"13:50:00\",\"22:09:00\",\"15:29:00\",\"20:06:00\",\"12:34:00\",\"16:59:00\",\"09:26:00\",\"15:29:00\",\"23:29:00\",\"08:59:00\",\"23:39:00\",\"13:46:00\",\"14:42:00\",\"14:24:00\"],\"lat\":[53.2667,53.27,53.2383,53.2583,53.2583,53.255,53.2383,53.2583,53.2583,53.2417,53.2433,53.2417,53.2417,53.2583,53.2417,53.2583,53.2417,53.2583,53.2583,53.2667,53.2667,53.2667,53.185,53.2333,53.2667,53.2667,53.27,53.2417,53.2617,53.2583,53.2533,53.2533,53.2667,53.2333,53.2417,53.2533,53.2667,53.25,53.2383,53.2417,53.1333,53.1717,53.2633,53.1533,53.2567,53.2037,53.1585,53.2567,53.2575,53.2604,53.2557,53.1905,53.2583,53.2583,53.2525,53.23,53.2456,53.2417,53.25899999999999,53.2458,53.2423,53.1317,53.2675,53.2584,53.2625,53.2639,53.2591,53.2917,53.2611,53.2587,53.2675,53.2667,53.2523,53.2641,53.2611,53.2805,53.25,53.25,53.2583,53.2558,53.2641,53.18,53.266000000000005,53.2392,53.2458,53.2675,53.1333,53.2533,53.2682,53.2659,53.187,53.2675,53.26,53.23,53.25,53.2767,53.25,53.2421,53.2812,53.1352,53.2671,53.2558,53.2577,53.2617,53.2517,53.2517,53.2517,53.2467,53.2417,53.2367,53.2432,53.245,53.245,53.2333,53.2442,53.2425,53.2675,53.2675,53.1583,53.1333,53.2363,53.1833,53.2541,53.2624,53.1657,53.2533,53.2489,53.2589,53.2681,53.2538,53.2682,53.2522,53.1738,53.25,53.2558,53.2217,53.135,53.2304,53.2508,53.2425,53.2406,53.2534,53.2508,53.2425,53.2426,53.2252,53.2633,53.2633,53.2311,53.1396,53.1509,53.2496,53.2659,53.2541,53.2624,53.2527,53.2169,53.2402,53.1538,53.2624,53.2407,53.2687,53.2405,53.248999999999995,53.2591,53.2333,53.2657,53.2667,53.2675,53.245,53.2572,53.2383,53.1244,53.225,53.125,53.2321,53.2417,53.2567,53.2388,53.2448,53.2605,53.2487,53.2428,53.2389,53.2417,53.275,53.25,53.25,53.25,53.2567,53.2667,53.1517,53.165,53.245,53.2583,53.2669,53.245,53.17,53.2533,53.254,53.2667,53.2247,53.24,53.2,53.1728,53.2662,53.2447,53.2508,53.26,53.15,53.266999999999996,53.2425,53.192,53.2237,53.254,53.2425,53.238,53.1888,53.15,53.2417,53.2208,53.25,53.1638,53.255,53.2583,53.2583,53.2717,53.2717,53.245,53.2677,53.2664,53.2664,53.224,53.224,53.2617,53.2617,53.2524,53.2599,53.2403,53.2567,53.2517,53.2335,53.2691,53.2691,53.2692,53.27,53.248999999999995,53.2667,53.2575,53.25,53.238,53.2667,53.2667,53.2566,53.2149,53.2683,53.1662,53.2391,53.2665,53.2662,53.2588,53.2489,53.2406,53.2583,53.2322,53.28236999999999,53.268519999999995,53.24,53.26905,53.26786,53.27276,53.25385,53.268919999999994,53.25714,53.26976,53.250640000000004,53.26976,53.2697,53.25525,53.25833000000001,53.26121,53.27398,53.24324,53.24833,53.26745,53.244780000000006,53.26899,53.23789,53.21528000000001,53.26781999999999,53.26804,53.26845,53.2685,53.23743,53.24904,53.26347,53.25566,53.25958000000001,53.2694,53.24426,53.26696,53.26105,53.267219999999995,53.267509999999994,53.1899,53.266690000000004,53.27016,53.26798,53.25946,53.28188000000001,53.25252,53.234759999999994,53.25923,53.2142,53.25971,53.26911,53.25489,53.24143,53.269580000000005,53.25238,53.25515,53.25833000000001,53.26944,53.24539,53.24329,53.24722,53.22551,53.26837,53.25844,53.267680000000006,53.26829,53.26129,53.140480000000004,53.267630000000004,53.25335,53.24892,53.268930000000005,53.26347,53.26823,53.26651999999999,53.25538,53.25895,53.26865,53.256069999999994,53.16036,53.25945,53.23226999999999,53.26944,53.24539,53.24329,53.24722,53.22551,53.26837,53.267680000000006,53.25844,53.26829,53.26129,53.140480000000004,53.267630000000004,53.25335,53.24892,53.268930000000005,53.26944,53.24539,53.24329,53.24722,53.22551,53.26837,53.25844,53.267680000000006,53.26829,53.26129,53.140480000000004,53.267630000000004,53.25335,53.24892,53.268930000000005,53.268809999999995,53.259409999999995,53.19481,53.26973,null,53.2457,53.261109999999995,53.267630000000004,53.24873,53.256569999999996,null,53.26093,53.25895,53.26177,53.24395,53.19333,null,53.25833000000001,53.2455,53.260490000000004,null,53.2419,53.171859999999995,53.250530000000005,53.25541,53.26322,53.2159,53.26161999999999,null,53.267959999999995,53.27151,53.23967,53.25546,53.26756999999999],\"legendgroup\":\"\",\"lon\":[-9.0417,-8.97,-8.9917,-9.0633,-9.0,-9.09,-8.9917,-9.0417,-9.0667,-9.0,-9.1417,-9.0,-9.0,-9.0,-8.9667,-9.0,-9.0417,-9.0,-9.0,-9.0417,-9.0417,-9.0417,-9.0667,-9.3067,-9.0417,-9.0417,-9.0547,-8.9867,-9.0083,-9.05,-9.0833,-9.0667,-9.0417,-9.3555,-9.0033,-9.0833,-9.0167,-9.0033,-9.1,-8.9617,-9.1567,-8.9617,-9.05,-9.135,-9.0783,-9.0208,-9.1072,-9.05,-9.0883,-9.0233,-9.0522,-9.029,-9.0467,-9.0467,-9.0196,-9.0067,-9.0488,-9.1433,-9.0157,-9.1598,-9.3013,-9.1591,-9.0467,-9.0236,-9.0417,-9.0457,-9.0403,-9.0833,-9.0233,-9.0882,-9.0467,-9.0467,-9.0961,-9.0455,-9.0063,-9.0536,-9.0833,-9.0833,-9.0233,-9.0918,-9.0455,-8.9583,-9.0405,-9.3041,-9.2167,-9.05,-9.1333,-9.0567,-9.0423,-9.0172,-8.9975,-9.05,-9.025,-9.1817,-9.1,-9.025,-9.0217,-8.9973,-9.0528,-9.1422,-9.0495,-9.09,-9.0665,-9.0217,-9.0917,-9.0917,-9.1217,-9.1483,-9.1583,-9.0033,-8.984,-9.0183,-9.0183,-9.31,-9.0811,-8.9833,-9.025,-9.05,-9.2667,-9.1667,-9.165,-9.1667,-9.0808,-9.064,-8.9633,-9.0565,-9.0789,-9.019,-9.0433,-9.0681,-9.0406,-9.0672,-9.163,-9.055,-9.0183,-9.07,-9.1633,-8.9911,-9.0417,-9.2133,-8.9741,-9.1037,-9.0917,-9.22,-9.1759,-9.1978,-9.0075,-9.0417,-9.3462,-9.148,-8.9381,-9.0411,-9.046,-9.0692,-9.0272,-8.9761,-9.3006,-9.2959,-9.261000000000001,-9.0354,-8.9652,-9.0518,-9.0821,-9.0288,-9.0172,-8.9833,-9.0356,-9.025,-9.035,-9.0667,-9.0229,-9.7839,-9.14,-9.3205,-9.145,-9.2631,-9.0667,-9.0917,-9.0619,-9.0424,-9.0178,-9.0791,-8.9823,-9.3068,-9.2217,-9.0567,-9.0567,-9.0883,-9.0733,-9.1083,-9.05,-8.9483,-8.955,-8.98,-8.975,-9.0489,-8.997,-9.0033,-9.1,-9.0151,-9.035,-9.4286,-9.3008,-9.2,-9.052999999999999,-9.0374,-9.1659,-9.0,-9.025,-9.1667,-9.0417,-9.15,-9.0247,-9.1286,-9.0291,-8.96,-9.1403,-9.5148,-9.1517,-9.1333,-9.3567,-9.09,-9.0847,-9.0687,-9.0233,-8.975,-9.0383,-9.0417,-9.1217,-9.0408,-9.0489,-9.0489,-9.0368,-9.0368,-9.0283,-9.0283,-9.0796,-9.0184,-9.2951,-9.0917,-9.0417,-9.1464,-9.0452,-9.0533,-9.0482,-9.05,-9.0288,-9.0417,-9.0403,-9.0833,-9.0833,-9.0417,-9.0467,-9.0742,-9.2959,-9.0467,-9.0354,-9.0023,-9.0468,-9.0437,-9.0486,-8.9955,-9.0706,-9.0467,-9.1292,-9.06051,-9.04922,-9.22833,-9.04773,-9.04458,-9.05591,-9.05681,-9.04508,-9.08351,-9.055,-9.12969,-9.05475,-9.054839999999999,-9.09172,-9.025,-9.027330000000001,-9.05568,-9.09983,-9.081669999999999,-9.04733,-8.98664,-9.019260000000001,-9.30799,-9.11144,-9.03812,-9.051169999999999,-9.052480000000001,-9.052389999999999,-9.05728,-9.14792,-9.01943,-9.113760000000001,-9.025269999999999,-9.05037,-9.13238,-9.04384,-9.02214,-9.04911,-9.04952,-8.967,-9.01939,-9.05545,-9.05295,-9.044130000000001,-9.05913,-8.98215,-9.11313,-9.02609,-9.30217,-9.026060000000001,-9.05371,-9.08403,-9.08889,-9.0548,-9.05366,-9.09246,-9.07222,-9.04828,-9.13054,-9.13522,-9.0861,-9.0251,-9.05175,-9.026639999999999,-9.04514,-9.02033,-9.06814,-8.936869999999999,-9.05226,-9.08681,-9.14837,-9.05278,-9.03423,-9.054089999999999,-9.042539999999999,-9.08415,-9.02518,-9.05226,-9.042689999999999,-9.30541,-9.02379,-9.01179,-9.04828,-9.13054,-9.13522,-9.0861,-9.0251,-9.05175,-9.04514,-9.026639999999999,-9.02033,-9.06814,-8.936869999999999,-9.05226,-9.08681,-9.14837,-9.05278,-9.04828,-9.13054,-9.13522,-9.0861,-9.0251,-9.05175,-9.026639999999999,-9.04514,-9.02033,-9.06814,-8.936869999999999,-9.05226,-9.08681,-9.14837,-9.05278,-9.04766,-9.02355,-8.9642,-9.01877,null,-9.12689,-9.02784,-9.01966,-9.14386,-9.09196,null,-9.06959,-9.02009,-9.02258,-8.96693,-8.96833,null,-9.02475,-9.12792,-9.0224,null,-9.228860000000001,-8.99028,-9.048210000000001,-9.0667,-9.00825,-9.3108,-9.06612,null,-9.05306,-9.05599,-9.10988,-9.087639999999999,-9.05125],\"marker\":{\"color\":[2016,2016,2016,2016,2016,2016,2016,2016,2016,2016,2016,2016,2016,2016,2016,2016,2016,2016,2016,2016,2016,2016,2016,2016,2016,2016,2016,2016,2016,2016,2016,2016,2016,2016,2016,2016,2016,2016,2016,2016,2016,2016,2016,2016,2016,2016,2016,2016,2015,2008,2009,2009,2012,2012,2011,2015,2010,2012,2010,2013,2014,2008,2014,2011,2013,2011,2010,2013,2008,2008,2014,2014,2010,2011,2011,2008,2014,2014,2012,2012,2011,2014,2010,2010,2014,2014,2015,2015,2011,2008,2008,2014,2014,2012,2012,2013,2013,2008,2008,2008,2013,2012,2012,2014,2014,2014,2012,2013,2013,2013,2013,2013,2013,2013,2008,2014,2014,2014,2014,2012,2008,2012,2008,2008,2008,2010,2010,2010,2011,2011,2011,2011,2011,2013,2012,2013,2013,2011,2014,2014,2011,2010,2014,2014,2010,2011,2013,2013,2009,2010,2009,2009,2009,2009,2009,2009,2009,2010,2009,2009,2009,2009,2009,2009,2009,2015,2010,2012,2012,2012,2011,2008,2008,2015,2015,2010,2012,2013,2011,2011,2011,2011,2011,2011,2013,2015,2015,2013,2013,2013,2012,2012,2013,2012,2015,2015,2015,2015,2015,2009,2012,2011,2012,2014,2010,2010,2010,2014,2014,2014,2014,2014,2008,2008,2008,2008,2014,2009,2013,2013,2015,2014,2012,2015,2015,2015,2015,2015,2015,2008,2008,2008,2009,2009,2013,2013,2010,2010,2009,2012,2012,2009,2011,2011,2014,2013,2008,2015,2008,2014,2014,2015,2013,2010,2008,2013,2010,2009,2011,2010,2010,2009,2011,2011,2009,2019,2019,2019,2019,2018,2018,2017,2017,2017,2017,2017,2017,2017,2018,2017,2018,2018,2019,2017,2019,2019,2019,2019,2019,2019,2019,2019,2019,2019,2019,2019,2019,2019,2019,2019,2017,2017,2018,2017,2017,2017,2018,2018,2018,2017,2017,2017,2018,2017,2017,2017,2017,2017,2017,2017,2017,2017,2019,2019,2019,2019,2019,2019,2019,2019,2019,2019,2019,2019,2019,2019,2019,2018,2018,2018,2018,2018,2018,2018,2018,2018,2018,2019,2019,2019,2019,2019,2019,2019,2019,2019,2019,2019,2019,2019,2019,2019,2019,2019,2019,2019,2019,2019,2019,2019,2019,2019,2019,2019,2019,2019,2019,2020,2020,2020,2020,2020,2020,2020,2020,2020,2020,2020,2020,2020,2020,2020,2020,2020,2020,2020,2020,2020,2020,2020,2020,2020,2020,2020,2020,2020,2020,2020,2020,2020,2020],\"coloraxis\":\"coloraxis\"},\"mode\":\"markers\",\"name\":\"\",\"showlegend\":false,\"subplot\":\"mapbox\",\"type\":\"scattermapbox\"}],                        {\"template\":{\"data\":{\"bar\":[{\"error_x\":{\"color\":\"#2a3f5f\"},\"error_y\":{\"color\":\"#2a3f5f\"},\"marker\":{\"line\":{\"color\":\"#E5ECF6\",\"width\":0.5},\"pattern\":{\"fillmode\":\"overlay\",\"size\":10,\"solidity\":0.2}},\"type\":\"bar\"}],\"barpolar\":[{\"marker\":{\"line\":{\"color\":\"#E5ECF6\",\"width\":0.5},\"pattern\":{\"fillmode\":\"overlay\",\"size\":10,\"solidity\":0.2}},\"type\":\"barpolar\"}],\"carpet\":[{\"aaxis\":{\"endlinecolor\":\"#2a3f5f\",\"gridcolor\":\"white\",\"linecolor\":\"white\",\"minorgridcolor\":\"white\",\"startlinecolor\":\"#2a3f5f\"},\"baxis\":{\"endlinecolor\":\"#2a3f5f\",\"gridcolor\":\"white\",\"linecolor\":\"white\",\"minorgridcolor\":\"white\",\"startlinecolor\":\"#2a3f5f\"},\"type\":\"carpet\"}],\"choropleth\":[{\"colorbar\":{\"outlinewidth\":0,\"ticks\":\"\"},\"type\":\"choropleth\"}],\"contour\":[{\"colorbar\":{\"outlinewidth\":0,\"ticks\":\"\"},\"colorscale\":[[0.0,\"#0d0887\"],[0.1111111111111111,\"#46039f\"],[0.2222222222222222,\"#7201a8\"],[0.3333333333333333,\"#9c179e\"],[0.4444444444444444,\"#bd3786\"],[0.5555555555555556,\"#d8576b\"],[0.6666666666666666,\"#ed7953\"],[0.7777777777777778,\"#fb9f3a\"],[0.8888888888888888,\"#fdca26\"],[1.0,\"#f0f921\"]],\"type\":\"contour\"}],\"contourcarpet\":[{\"colorbar\":{\"outlinewidth\":0,\"ticks\":\"\"},\"type\":\"contourcarpet\"}],\"heatmap\":[{\"colorbar\":{\"outlinewidth\":0,\"ticks\":\"\"},\"colorscale\":[[0.0,\"#0d0887\"],[0.1111111111111111,\"#46039f\"],[0.2222222222222222,\"#7201a8\"],[0.3333333333333333,\"#9c179e\"],[0.4444444444444444,\"#bd3786\"],[0.5555555555555556,\"#d8576b\"],[0.6666666666666666,\"#ed7953\"],[0.7777777777777778,\"#fb9f3a\"],[0.8888888888888888,\"#fdca26\"],[1.0,\"#f0f921\"]],\"type\":\"heatmap\"}],\"heatmapgl\":[{\"colorbar\":{\"outlinewidth\":0,\"ticks\":\"\"},\"colorscale\":[[0.0,\"#0d0887\"],[0.1111111111111111,\"#46039f\"],[0.2222222222222222,\"#7201a8\"],[0.3333333333333333,\"#9c179e\"],[0.4444444444444444,\"#bd3786\"],[0.5555555555555556,\"#d8576b\"],[0.6666666666666666,\"#ed7953\"],[0.7777777777777778,\"#fb9f3a\"],[0.8888888888888888,\"#fdca26\"],[1.0,\"#f0f921\"]],\"type\":\"heatmapgl\"}],\"histogram\":[{\"marker\":{\"pattern\":{\"fillmode\":\"overlay\",\"size\":10,\"solidity\":0.2}},\"type\":\"histogram\"}],\"histogram2d\":[{\"colorbar\":{\"outlinewidth\":0,\"ticks\":\"\"},\"colorscale\":[[0.0,\"#0d0887\"],[0.1111111111111111,\"#46039f\"],[0.2222222222222222,\"#7201a8\"],[0.3333333333333333,\"#9c179e\"],[0.4444444444444444,\"#bd3786\"],[0.5555555555555556,\"#d8576b\"],[0.6666666666666666,\"#ed7953\"],[0.7777777777777778,\"#fb9f3a\"],[0.8888888888888888,\"#fdca26\"],[1.0,\"#f0f921\"]],\"type\":\"histogram2d\"}],\"histogram2dcontour\":[{\"colorbar\":{\"outlinewidth\":0,\"ticks\":\"\"},\"colorscale\":[[0.0,\"#0d0887\"],[0.1111111111111111,\"#46039f\"],[0.2222222222222222,\"#7201a8\"],[0.3333333333333333,\"#9c179e\"],[0.4444444444444444,\"#bd3786\"],[0.5555555555555556,\"#d8576b\"],[0.6666666666666666,\"#ed7953\"],[0.7777777777777778,\"#fb9f3a\"],[0.8888888888888888,\"#fdca26\"],[1.0,\"#f0f921\"]],\"type\":\"histogram2dcontour\"}],\"mesh3d\":[{\"colorbar\":{\"outlinewidth\":0,\"ticks\":\"\"},\"type\":\"mesh3d\"}],\"parcoords\":[{\"line\":{\"colorbar\":{\"outlinewidth\":0,\"ticks\":\"\"}},\"type\":\"parcoords\"}],\"pie\":[{\"automargin\":true,\"type\":\"pie\"}],\"scatter\":[{\"marker\":{\"colorbar\":{\"outlinewidth\":0,\"ticks\":\"\"}},\"type\":\"scatter\"}],\"scatter3d\":[{\"line\":{\"colorbar\":{\"outlinewidth\":0,\"ticks\":\"\"}},\"marker\":{\"colorbar\":{\"outlinewidth\":0,\"ticks\":\"\"}},\"type\":\"scatter3d\"}],\"scattercarpet\":[{\"marker\":{\"colorbar\":{\"outlinewidth\":0,\"ticks\":\"\"}},\"type\":\"scattercarpet\"}],\"scattergeo\":[{\"marker\":{\"colorbar\":{\"outlinewidth\":0,\"ticks\":\"\"}},\"type\":\"scattergeo\"}],\"scattergl\":[{\"marker\":{\"colorbar\":{\"outlinewidth\":0,\"ticks\":\"\"}},\"type\":\"scattergl\"}],\"scattermapbox\":[{\"marker\":{\"colorbar\":{\"outlinewidth\":0,\"ticks\":\"\"}},\"type\":\"scattermapbox\"}],\"scatterpolar\":[{\"marker\":{\"colorbar\":{\"outlinewidth\":0,\"ticks\":\"\"}},\"type\":\"scatterpolar\"}],\"scatterpolargl\":[{\"marker\":{\"colorbar\":{\"outlinewidth\":0,\"ticks\":\"\"}},\"type\":\"scatterpolargl\"}],\"scatterternary\":[{\"marker\":{\"colorbar\":{\"outlinewidth\":0,\"ticks\":\"\"}},\"type\":\"scatterternary\"}],\"surface\":[{\"colorbar\":{\"outlinewidth\":0,\"ticks\":\"\"},\"colorscale\":[[0.0,\"#0d0887\"],[0.1111111111111111,\"#46039f\"],[0.2222222222222222,\"#7201a8\"],[0.3333333333333333,\"#9c179e\"],[0.4444444444444444,\"#bd3786\"],[0.5555555555555556,\"#d8576b\"],[0.6666666666666666,\"#ed7953\"],[0.7777777777777778,\"#fb9f3a\"],[0.8888888888888888,\"#fdca26\"],[1.0,\"#f0f921\"]],\"type\":\"surface\"}],\"table\":[{\"cells\":{\"fill\":{\"color\":\"#EBF0F8\"},\"line\":{\"color\":\"white\"}},\"header\":{\"fill\":{\"color\":\"#C8D4E3\"},\"line\":{\"color\":\"white\"}},\"type\":\"table\"}]},\"layout\":{\"annotationdefaults\":{\"arrowcolor\":\"#2a3f5f\",\"arrowhead\":0,\"arrowwidth\":1},\"autotypenumbers\":\"strict\",\"coloraxis\":{\"colorbar\":{\"outlinewidth\":0,\"ticks\":\"\"}},\"colorscale\":{\"diverging\":[[0,\"#8e0152\"],[0.1,\"#c51b7d\"],[0.2,\"#de77ae\"],[0.3,\"#f1b6da\"],[0.4,\"#fde0ef\"],[0.5,\"#f7f7f7\"],[0.6,\"#e6f5d0\"],[0.7,\"#b8e186\"],[0.8,\"#7fbc41\"],[0.9,\"#4d9221\"],[1,\"#276419\"]],\"sequential\":[[0.0,\"#0d0887\"],[0.1111111111111111,\"#46039f\"],[0.2222222222222222,\"#7201a8\"],[0.3333333333333333,\"#9c179e\"],[0.4444444444444444,\"#bd3786\"],[0.5555555555555556,\"#d8576b\"],[0.6666666666666666,\"#ed7953\"],[0.7777777777777778,\"#fb9f3a\"],[0.8888888888888888,\"#fdca26\"],[1.0,\"#f0f921\"]],\"sequentialminus\":[[0.0,\"#0d0887\"],[0.1111111111111111,\"#46039f\"],[0.2222222222222222,\"#7201a8\"],[0.3333333333333333,\"#9c179e\"],[0.4444444444444444,\"#bd3786\"],[0.5555555555555556,\"#d8576b\"],[0.6666666666666666,\"#ed7953\"],[0.7777777777777778,\"#fb9f3a\"],[0.8888888888888888,\"#fdca26\"],[1.0,\"#f0f921\"]]},\"colorway\":[\"#636efa\",\"#EF553B\",\"#00cc96\",\"#ab63fa\",\"#FFA15A\",\"#19d3f3\",\"#FF6692\",\"#B6E880\",\"#FF97FF\",\"#FECB52\"],\"font\":{\"color\":\"#2a3f5f\"},\"geo\":{\"bgcolor\":\"white\",\"lakecolor\":\"white\",\"landcolor\":\"#E5ECF6\",\"showlakes\":true,\"showland\":true,\"subunitcolor\":\"white\"},\"hoverlabel\":{\"align\":\"left\"},\"hovermode\":\"closest\",\"mapbox\":{\"style\":\"light\"},\"paper_bgcolor\":\"white\",\"plot_bgcolor\":\"#E5ECF6\",\"polar\":{\"angularaxis\":{\"gridcolor\":\"white\",\"linecolor\":\"white\",\"ticks\":\"\"},\"bgcolor\":\"#E5ECF6\",\"radialaxis\":{\"gridcolor\":\"white\",\"linecolor\":\"white\",\"ticks\":\"\"}},\"scene\":{\"xaxis\":{\"backgroundcolor\":\"#E5ECF6\",\"gridcolor\":\"white\",\"gridwidth\":2,\"linecolor\":\"white\",\"showbackground\":true,\"ticks\":\"\",\"zerolinecolor\":\"white\"},\"yaxis\":{\"backgroundcolor\":\"#E5ECF6\",\"gridcolor\":\"white\",\"gridwidth\":2,\"linecolor\":\"white\",\"showbackground\":true,\"ticks\":\"\",\"zerolinecolor\":\"white\"},\"zaxis\":{\"backgroundcolor\":\"#E5ECF6\",\"gridcolor\":\"white\",\"gridwidth\":2,\"linecolor\":\"white\",\"showbackground\":true,\"ticks\":\"\",\"zerolinecolor\":\"white\"}},\"shapedefaults\":{\"line\":{\"color\":\"#2a3f5f\"}},\"ternary\":{\"aaxis\":{\"gridcolor\":\"white\",\"linecolor\":\"white\",\"ticks\":\"\"},\"baxis\":{\"gridcolor\":\"white\",\"linecolor\":\"white\",\"ticks\":\"\"},\"bgcolor\":\"#E5ECF6\",\"caxis\":{\"gridcolor\":\"white\",\"linecolor\":\"white\",\"ticks\":\"\"}},\"title\":{\"x\":0.05},\"xaxis\":{\"automargin\":true,\"gridcolor\":\"white\",\"linecolor\":\"white\",\"ticks\":\"\",\"title\":{\"standoff\":15},\"zerolinecolor\":\"white\",\"zerolinewidth\":2},\"yaxis\":{\"automargin\":true,\"gridcolor\":\"white\",\"linecolor\":\"white\",\"ticks\":\"\",\"title\":{\"standoff\":15},\"zerolinecolor\":\"white\",\"zerolinewidth\":2}}},\"mapbox\":{\"domain\":{\"x\":[0.0,1.0],\"y\":[0.0,1.0]},\"center\":{\"lat\":53.24504706896551,\"lon\":-9.073099236453197},\"accesstoken\":\"pk.eyJ1Ijoic2hhbmVwYXVzdGluIiwiYSI6ImNreHA2azBmcDA2dDYzM3RoZjN2dHU0bTcifQ.FwuIpzahKyMH0-giO2mpRw\",\"zoom\":10},\"coloraxis\":{\"colorbar\":{\"title\":{\"text\":\"YearOfCall\"}},\"colorscale\":[[0.0,\"#0d0887\"],[0.1111111111111111,\"#46039f\"],[0.2222222222222222,\"#7201a8\"],[0.3333333333333333,\"#9c179e\"],[0.4444444444444444,\"#bd3786\"],[0.5555555555555556,\"#d8576b\"],[0.6666666666666666,\"#ed7953\"],[0.7777777777777778,\"#fb9f3a\"],[0.8888888888888888,\"#fdca26\"],[1.0,\"#f0f921\"]]},\"legend\":{\"tracegroupgap\":0},\"margin\":{\"t\":60}},                        {\"responsive\": true}                    ).then(function(){\n",
       "                            \n",
       "var gd = document.getElementById('4f39441e-6f1b-4e50-8811-ae25b3416003');\n",
       "var x = new MutationObserver(function (mutations, observer) {{\n",
       "        var display = window.getComputedStyle(gd).display;\n",
       "        if (!display || display === 'none') {{\n",
       "            console.log([gd, 'removed!']);\n",
       "            Plotly.purge(gd);\n",
       "            observer.disconnect();\n",
       "        }}\n",
       "}});\n",
       "\n",
       "// Listen for the removal of the full notebook cells\n",
       "var notebookContainer = gd.closest('#notebook-container');\n",
       "if (notebookContainer) {{\n",
       "    x.observe(notebookContainer, {childList: true});\n",
       "}}\n",
       "\n",
       "// Listen for the clearing of the current output cell\n",
       "var outputEl = gd.closest('.output');\n",
       "if (outputEl) {{\n",
       "    x.observe(outputEl, {childList: true});\n",
       "}}\n",
       "\n",
       "                        })                };                });            </script>        </div>"
      ]
     },
     "metadata": {},
     "output_type": "display_data"
    }
   ],
   "source": [
    "import plotly.express as px\n",
    "\n",
    "px.set_mapbox_access_token(open(\"./mapbox/mapbox_token\").read())\n",
    "fig = px.scatter_mapbox(map_df, lat=\"Y\", lon=\"X\", size_max=15, zoom=10, color = \"YearOfCall\", hover_name=\"LaunchTime\")\n",
    "fig.show()"
   ]
  },
  {
   "cell_type": "markdown",
   "metadata": {},
   "source": [
    "---\n",
    "### Box Plots\n",
    "[Official Documentation](https://matplotlib.org/3.1.1/api/_as_gen/matplotlib.pyplot.boxplot.html)"
   ]
  },
  {
   "cell_type": "markdown",
   "metadata": {},
   "source": [
    "[towardsdatascience.com - Box Plots](https://towardsdatascience.com/create-and-customize-boxplots-with-pythons-matplotlib-to-get-lots-of-insights-from-your-data-d561c9883643)"
   ]
  },
  {
   "cell_type": "code",
   "execution_count": 37,
   "metadata": {},
   "outputs": [
    {
     "ename": "KeyError",
     "evalue": "\"['Species'] not found in axis\"",
     "output_type": "error",
     "traceback": [
      "\u001b[1;31m---------------------------------------------------------------------------\u001b[0m",
      "\u001b[1;31mKeyError\u001b[0m                                  Traceback (most recent call last)",
      "\u001b[1;32m<ipython-input-37-4f8d65e1a11d>\u001b[0m in \u001b[0;36m<module>\u001b[1;34m\u001b[0m\n\u001b[0;32m      1\u001b[0m \u001b[1;31m#Drop Species to make data all numerical\u001b[0m\u001b[1;33m\u001b[0m\u001b[1;33m\u001b[0m\u001b[1;33m\u001b[0m\u001b[0m\n\u001b[1;32m----> 2\u001b[1;33m \u001b[0mbox_df\u001b[0m \u001b[1;33m=\u001b[0m \u001b[0mdf\u001b[0m\u001b[1;33m.\u001b[0m\u001b[0mdrop\u001b[0m\u001b[1;33m(\u001b[0m\u001b[1;34m'Species'\u001b[0m\u001b[1;33m,\u001b[0m \u001b[0maxis\u001b[0m\u001b[1;33m=\u001b[0m\u001b[1;36m1\u001b[0m\u001b[1;33m)\u001b[0m\u001b[1;33m\u001b[0m\u001b[1;33m\u001b[0m\u001b[0m\n\u001b[0m\u001b[0;32m      3\u001b[0m \u001b[1;33m\u001b[0m\u001b[0m\n\u001b[0;32m      4\u001b[0m \u001b[1;31m#Use boxplot() to plot the new dataframe\u001b[0m\u001b[1;33m\u001b[0m\u001b[1;33m\u001b[0m\u001b[1;33m\u001b[0m\u001b[0m\n\u001b[0;32m      5\u001b[0m \u001b[0mplt\u001b[0m\u001b[1;33m.\u001b[0m\u001b[0mboxplot\u001b[0m\u001b[1;33m(\u001b[0m\u001b[0mbox_df\u001b[0m\u001b[1;33m)\u001b[0m\u001b[1;33m\u001b[0m\u001b[1;33m\u001b[0m\u001b[0m\n",
      "\u001b[1;32m~\\anaconda3\\lib\\site-packages\\pandas\\core\\frame.py\u001b[0m in \u001b[0;36mdrop\u001b[1;34m(self, labels, axis, index, columns, level, inplace, errors)\u001b[0m\n\u001b[0;32m   4161\u001b[0m                 \u001b[0mweight\u001b[0m  \u001b[1;36m1.0\u001b[0m     \u001b[1;36m0.8\u001b[0m\u001b[1;33m\u001b[0m\u001b[1;33m\u001b[0m\u001b[0m\n\u001b[0;32m   4162\u001b[0m         \"\"\"\n\u001b[1;32m-> 4163\u001b[1;33m         return super().drop(\n\u001b[0m\u001b[0;32m   4164\u001b[0m             \u001b[0mlabels\u001b[0m\u001b[1;33m=\u001b[0m\u001b[0mlabels\u001b[0m\u001b[1;33m,\u001b[0m\u001b[1;33m\u001b[0m\u001b[1;33m\u001b[0m\u001b[0m\n\u001b[0;32m   4165\u001b[0m             \u001b[0maxis\u001b[0m\u001b[1;33m=\u001b[0m\u001b[0maxis\u001b[0m\u001b[1;33m,\u001b[0m\u001b[1;33m\u001b[0m\u001b[1;33m\u001b[0m\u001b[0m\n",
      "\u001b[1;32m~\\anaconda3\\lib\\site-packages\\pandas\\core\\generic.py\u001b[0m in \u001b[0;36mdrop\u001b[1;34m(self, labels, axis, index, columns, level, inplace, errors)\u001b[0m\n\u001b[0;32m   3885\u001b[0m         \u001b[1;32mfor\u001b[0m \u001b[0maxis\u001b[0m\u001b[1;33m,\u001b[0m \u001b[0mlabels\u001b[0m \u001b[1;32min\u001b[0m \u001b[0maxes\u001b[0m\u001b[1;33m.\u001b[0m\u001b[0mitems\u001b[0m\u001b[1;33m(\u001b[0m\u001b[1;33m)\u001b[0m\u001b[1;33m:\u001b[0m\u001b[1;33m\u001b[0m\u001b[1;33m\u001b[0m\u001b[0m\n\u001b[0;32m   3886\u001b[0m             \u001b[1;32mif\u001b[0m \u001b[0mlabels\u001b[0m \u001b[1;32mis\u001b[0m \u001b[1;32mnot\u001b[0m \u001b[1;32mNone\u001b[0m\u001b[1;33m:\u001b[0m\u001b[1;33m\u001b[0m\u001b[1;33m\u001b[0m\u001b[0m\n\u001b[1;32m-> 3887\u001b[1;33m                 \u001b[0mobj\u001b[0m \u001b[1;33m=\u001b[0m \u001b[0mobj\u001b[0m\u001b[1;33m.\u001b[0m\u001b[0m_drop_axis\u001b[0m\u001b[1;33m(\u001b[0m\u001b[0mlabels\u001b[0m\u001b[1;33m,\u001b[0m \u001b[0maxis\u001b[0m\u001b[1;33m,\u001b[0m \u001b[0mlevel\u001b[0m\u001b[1;33m=\u001b[0m\u001b[0mlevel\u001b[0m\u001b[1;33m,\u001b[0m \u001b[0merrors\u001b[0m\u001b[1;33m=\u001b[0m\u001b[0merrors\u001b[0m\u001b[1;33m)\u001b[0m\u001b[1;33m\u001b[0m\u001b[1;33m\u001b[0m\u001b[0m\n\u001b[0m\u001b[0;32m   3888\u001b[0m \u001b[1;33m\u001b[0m\u001b[0m\n\u001b[0;32m   3889\u001b[0m         \u001b[1;32mif\u001b[0m \u001b[0minplace\u001b[0m\u001b[1;33m:\u001b[0m\u001b[1;33m\u001b[0m\u001b[1;33m\u001b[0m\u001b[0m\n",
      "\u001b[1;32m~\\anaconda3\\lib\\site-packages\\pandas\\core\\generic.py\u001b[0m in \u001b[0;36m_drop_axis\u001b[1;34m(self, labels, axis, level, errors)\u001b[0m\n\u001b[0;32m   3919\u001b[0m                 \u001b[0mnew_axis\u001b[0m \u001b[1;33m=\u001b[0m \u001b[0maxis\u001b[0m\u001b[1;33m.\u001b[0m\u001b[0mdrop\u001b[0m\u001b[1;33m(\u001b[0m\u001b[0mlabels\u001b[0m\u001b[1;33m,\u001b[0m \u001b[0mlevel\u001b[0m\u001b[1;33m=\u001b[0m\u001b[0mlevel\u001b[0m\u001b[1;33m,\u001b[0m \u001b[0merrors\u001b[0m\u001b[1;33m=\u001b[0m\u001b[0merrors\u001b[0m\u001b[1;33m)\u001b[0m\u001b[1;33m\u001b[0m\u001b[1;33m\u001b[0m\u001b[0m\n\u001b[0;32m   3920\u001b[0m             \u001b[1;32melse\u001b[0m\u001b[1;33m:\u001b[0m\u001b[1;33m\u001b[0m\u001b[1;33m\u001b[0m\u001b[0m\n\u001b[1;32m-> 3921\u001b[1;33m                 \u001b[0mnew_axis\u001b[0m \u001b[1;33m=\u001b[0m \u001b[0maxis\u001b[0m\u001b[1;33m.\u001b[0m\u001b[0mdrop\u001b[0m\u001b[1;33m(\u001b[0m\u001b[0mlabels\u001b[0m\u001b[1;33m,\u001b[0m \u001b[0merrors\u001b[0m\u001b[1;33m=\u001b[0m\u001b[0merrors\u001b[0m\u001b[1;33m)\u001b[0m\u001b[1;33m\u001b[0m\u001b[1;33m\u001b[0m\u001b[0m\n\u001b[0m\u001b[0;32m   3922\u001b[0m             \u001b[0mresult\u001b[0m \u001b[1;33m=\u001b[0m \u001b[0mself\u001b[0m\u001b[1;33m.\u001b[0m\u001b[0mreindex\u001b[0m\u001b[1;33m(\u001b[0m\u001b[1;33m**\u001b[0m\u001b[1;33m{\u001b[0m\u001b[0maxis_name\u001b[0m\u001b[1;33m:\u001b[0m \u001b[0mnew_axis\u001b[0m\u001b[1;33m}\u001b[0m\u001b[1;33m)\u001b[0m\u001b[1;33m\u001b[0m\u001b[1;33m\u001b[0m\u001b[0m\n\u001b[0;32m   3923\u001b[0m \u001b[1;33m\u001b[0m\u001b[0m\n",
      "\u001b[1;32m~\\anaconda3\\lib\\site-packages\\pandas\\core\\indexes\\base.py\u001b[0m in \u001b[0;36mdrop\u001b[1;34m(self, labels, errors)\u001b[0m\n\u001b[0;32m   5280\u001b[0m         \u001b[1;32mif\u001b[0m \u001b[0mmask\u001b[0m\u001b[1;33m.\u001b[0m\u001b[0many\u001b[0m\u001b[1;33m(\u001b[0m\u001b[1;33m)\u001b[0m\u001b[1;33m:\u001b[0m\u001b[1;33m\u001b[0m\u001b[1;33m\u001b[0m\u001b[0m\n\u001b[0;32m   5281\u001b[0m             \u001b[1;32mif\u001b[0m \u001b[0merrors\u001b[0m \u001b[1;33m!=\u001b[0m \u001b[1;34m\"ignore\"\u001b[0m\u001b[1;33m:\u001b[0m\u001b[1;33m\u001b[0m\u001b[1;33m\u001b[0m\u001b[0m\n\u001b[1;32m-> 5282\u001b[1;33m                 \u001b[1;32mraise\u001b[0m \u001b[0mKeyError\u001b[0m\u001b[1;33m(\u001b[0m\u001b[1;34mf\"{labels[mask]} not found in axis\"\u001b[0m\u001b[1;33m)\u001b[0m\u001b[1;33m\u001b[0m\u001b[1;33m\u001b[0m\u001b[0m\n\u001b[0m\u001b[0;32m   5283\u001b[0m             \u001b[0mindexer\u001b[0m \u001b[1;33m=\u001b[0m \u001b[0mindexer\u001b[0m\u001b[1;33m[\u001b[0m\u001b[1;33m~\u001b[0m\u001b[0mmask\u001b[0m\u001b[1;33m]\u001b[0m\u001b[1;33m\u001b[0m\u001b[1;33m\u001b[0m\u001b[0m\n\u001b[0;32m   5284\u001b[0m         \u001b[1;32mreturn\u001b[0m \u001b[0mself\u001b[0m\u001b[1;33m.\u001b[0m\u001b[0mdelete\u001b[0m\u001b[1;33m(\u001b[0m\u001b[0mindexer\u001b[0m\u001b[1;33m)\u001b[0m\u001b[1;33m\u001b[0m\u001b[1;33m\u001b[0m\u001b[0m\n",
      "\u001b[1;31mKeyError\u001b[0m: \"['Species'] not found in axis\""
     ]
    }
   ],
   "source": [
    "#Drop Species to make data all numerical\n",
    "box_df = df.drop('Species', axis=1)\n",
    "\n",
    "#Use boxplot() to plot the new dataframe\n",
    "plt.boxplot(box_df)\n",
    "plt.show()"
   ]
  },
  {
   "cell_type": "code",
   "execution_count": null,
   "metadata": {},
   "outputs": [],
   "source": [
    "#Assign ticks for labelling\n",
    "ticks = range(1, len(box_df.columns)+1)\n",
    "#Take labels from column headers\n",
    "labels = list(box_df.columns)\n",
    "\n",
    "#Plot with labels\n",
    "plt.boxplot(box_df)\n",
    "plt.xticks(ticks, labels)\n",
    "plt.show()"
   ]
  },
  {
   "cell_type": "code",
   "execution_count": null,
   "metadata": {},
   "outputs": [],
   "source": []
  },
  {
   "cell_type": "code",
   "execution_count": null,
   "metadata": {},
   "outputs": [],
   "source": [
    "#Take the seperate species dataframes for individual plots\n",
    "setosa = setosa.drop('Species', axis=1)\n",
    "versicolor = versicolor.drop('Species', axis=1)\n",
    "virginica = virginica.drop('Species', axis=1)"
   ]
  },
  {
   "cell_type": "markdown",
   "metadata": {},
   "source": [
    "##### Plots per Species"
   ]
  },
  {
   "cell_type": "code",
   "execution_count": null,
   "metadata": {},
   "outputs": [],
   "source": [
    "#Plot for Setosa\n",
    "plt.boxplot(setosa)\n",
    "plt.xticks(ticks, labels)\n",
    "plt.show()"
   ]
  },
  {
   "cell_type": "code",
   "execution_count": null,
   "metadata": {},
   "outputs": [],
   "source": [
    "plt.boxplot(versicolor)\n",
    "plt.xticks(ticks, labels)\n",
    "plt.show()"
   ]
  },
  {
   "cell_type": "code",
   "execution_count": null,
   "metadata": {},
   "outputs": [],
   "source": [
    "plt.boxplot(virginica)\n",
    "plt.xticks(ticks, labels)\n",
    "plt.show()"
   ]
  },
  {
   "cell_type": "code",
   "execution_count": null,
   "metadata": {},
   "outputs": [],
   "source": [
    "setosaSL = setosa['SepalLength']\n",
    "versicolorSL = versicolor['SepalLength']\n",
    "virginicaSL = virginica['SepalLength']"
   ]
  },
  {
   "cell_type": "code",
   "execution_count": null,
   "metadata": {},
   "outputs": [],
   "source": [
    "setosaSW = setosa['SepalWidth']\n",
    "versicolorSW = versicolor['SepalWidth']\n",
    "virginicaSW = virginica['SepalWidth']"
   ]
  },
  {
   "cell_type": "code",
   "execution_count": null,
   "metadata": {},
   "outputs": [],
   "source": [
    "setosaPL = setosa['PetalLength']\n",
    "versicolorPL = versicolor['PetalLength']\n",
    "virginicaPL = virginica['PetalLength']"
   ]
  },
  {
   "cell_type": "code",
   "execution_count": null,
   "metadata": {},
   "outputs": [],
   "source": [
    "setosaPW = setosa['PetalWidth']\n",
    "versicolorPW = versicolor['PetalWidth']\n",
    "virginicaPW = virginica['PetalWidth']"
   ]
  },
  {
   "cell_type": "code",
   "execution_count": null,
   "metadata": {},
   "outputs": [],
   "source": [
    "SL = [setosaSL, versicolorSL, virginicaSL]\n",
    "SW = [setosaSW, versicolorSW, virginicaSW]\n",
    "PL = [setosaPL, versicolorPL, virginicaPL]\n",
    "PW = [setosaPW, versicolorPW, virginicaPW]"
   ]
  },
  {
   "cell_type": "code",
   "execution_count": null,
   "metadata": {},
   "outputs": [],
   "source": [
    "plt.figure(figsize=(30,20))\n",
    "plt.suptitle (\"Box Plot Split by Species\")\n",
    "labels = df['Species'].unique()\n",
    "\n",
    "plt.subplot(2,2,1)\n",
    "\n",
    "plt.boxplot(SL, labels=labels)\n",
    "plt.subplot(2,2,2)\n",
    "labels = df['Species'].unique()\n",
    "plt.boxplot(SW, labels=labels)\n",
    "plt.subplot(2,2,3)\n",
    "labels = df['Species'].unique()\n",
    "plt.boxplot(PL, labels=labels)\n",
    "plt.subplot(2,2,4)\n",
    "labels = df['Species'].unique()\n",
    "plt.boxplot(PW, labels=labels)\n",
    "\n",
    "plt.show()"
   ]
  },
  {
   "cell_type": "code",
   "execution_count": null,
   "metadata": {},
   "outputs": [],
   "source": [
    "boxPlot, axes = plt.subplots(1,4, figsize=(16,8))\n",
    "sns.boxplot(x=\"Species\", y=\"SepalLength\", hue=\"Species\", data=df, palette=\"BuPu_r\", ax=axes[0], dodge=False)    \n",
    "sns.boxplot(x=\"Species\", y=\"SepalWidth\" , hue=\"Species\", data=df, palette=\"BuPu_r\", ax=axes[1], dodge=False)\n",
    "sns.boxplot(x=\"Species\", y=\"PetalLength\", hue=\"Species\", data=df, palette=\"BuPu_r\", ax=axes[2], dodge=False)\n",
    "sns.boxplot(x=\"Species\", y=\"PetalWidth\" , hue=\"Species\", data=df, palette=\"BuPu_r\", ax=axes[3], dodge=False)\n",
    "plt.suptitle(\"Box Plots\")"
   ]
  },
  {
   "cell_type": "code",
   "execution_count": null,
   "metadata": {},
   "outputs": [],
   "source": []
  },
  {
   "cell_type": "code",
   "execution_count": null,
   "metadata": {},
   "outputs": [],
   "source": []
  },
  {
   "cell_type": "code",
   "execution_count": null,
   "metadata": {},
   "outputs": [],
   "source": []
  },
  {
   "cell_type": "markdown",
   "metadata": {},
   "source": [
    "### References:\n",
    "\n"
   ]
  },
  {
   "cell_type": "markdown",
   "metadata": {},
   "source": [
    "1. https://matplotlib.org/\n",
    "2. https://www.analyticsvidhya.com/blog/2021/10/introduction-to-matplotlib-using-python-for-beginners/\n",
    "3. https://www.listendata.com/2019/06/matplotlib-tutorial-learn-plot-python.html"
   ]
  },
  {
   "cell_type": "code",
   "execution_count": null,
   "metadata": {},
   "outputs": [],
   "source": []
  }
 ],
 "metadata": {
  "kernelspec": {
   "display_name": "Python 3",
   "language": "python",
   "name": "python3"
  },
  "language_info": {
   "codemirror_mode": {
    "name": "ipython",
    "version": 3
   },
   "file_extension": ".py",
   "mimetype": "text/x-python",
   "name": "python",
   "nbconvert_exporter": "python",
   "pygments_lexer": "ipython3",
   "version": "3.8.5"
  }
 },
 "nbformat": 4,
 "nbformat_minor": 4
}
