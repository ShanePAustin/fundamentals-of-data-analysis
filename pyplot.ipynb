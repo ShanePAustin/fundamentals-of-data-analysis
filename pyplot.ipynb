{
 "cells": [
  {
   "cell_type": "markdown",
   "metadata": {},
   "source": [
    "## Fundamentals of Data Analysis, Winter 21/22\n",
    "\n",
    "### Overview of the matplotlib.pyplot Python package\n"
   ]
  },
  {
   "cell_type": "markdown",
   "metadata": {},
   "source": [
    "#### Pyplot Notebook\n",
    "\n",
    "\n",
    "* A clear and concise overview of the matplotlib.pyplot Python package.\n",
    "* An in-depth explanation of three interesting plots from the matplotlib.pyplot Python package."
   ]
  },
  {
   "cell_type": "markdown",
   "metadata": {},
   "source": [
    "#### Table of Contents\n",
    "\n",
    "1.\n"
   ]
  },
  {
   "cell_type": "markdown",
   "metadata": {},
   "source": [
    "-----------------------------\n",
    "#### What is Matplotlib\n",
    "\n",
    "Matplotlib is a comprehensive library for creating static, animated, and interactive visualizations in Python [1]. Matplotlib is an open source library, created by John D. Hunter mostly written in python, with a few segments written in C, Objective-C and Javascript for Platform compatibility. It was built to work in a similar fashion to the MATLAB programming language and provides a similar MATLAB like interface for graphics. \n",
    "\n",
    "Matplotlib is a powerful tool for executing a variety of tasks. It is able to create different types of visualization reports like line plots, scatter plots, histograms, bar charts, pie charts, box plots, and many more different plots including 3-dimensional plotting [2]. It integrates with the pandas packaage, which handles data in an organised manner and together make up the fundamentals of data wrangling and visualisation within Python.  <br /><br />"
   ]
  },
  {
   "cell_type": "markdown",
   "metadata": {},
   "source": [
    "Matplotlib uses an object oriented approach to plotting. This means that plots can be built step-by-step by adding new elements to the plot. Matplotlib is conceptually split into three layers shown below.\n",
    "\n",
    "![image](https://delftswa.gitbooks.io/desosa-2017/content/matplotlib/images-matplotlib/functional_view.png)\n",
    "\n",
    "##### Backend Layer\n",
    "\n",
    "This layer interacts directly with the environment it is run on, and it consists of 3 main components:\n",
    "\n",
    "* ```FigureCanvas``` - Acts as the surface that is drawn into to make the plots\n",
    "* ```Renderer``` - This does the drawing of the plots\n",
    "* ```Event``` - This component handles user inputs such as mouse or keyboard events\n",
    "\n",
    "##### Artist Layer\n",
    "\n",
    "This layer handles the communication with the backend layer and is responsible of most of the code requirements. Every image component inside a plot made by Matplotlib (axes, legends, etc) is an instance of the ```Artist``` class. The most important Artist object in Matplotlib is Axes which is responsible for composing the 2D data plots by combining multiple other Artist objects.\n",
    "\n",
    "##### Scripting Layer\n",
    "\n",
    "The scripting layer is accessed through the ```pyplot``` module and contains methods to create commonly used plotting graphics such as the histogram or the scatterplot. This layer also handles additional plot arguments such as setting the color of the plot or the plot labels.\n"
   ]
  },
  {
   "cell_type": "markdown",
   "metadata": {},
   "source": [
    "--------------------------------\n",
    "### Plotting\n",
    "\n",
    "There are two primary objects associated with a matplotlib plot:\n",
    "\n",
    "* figure object: the overall figure space that can contain one or more plots.\n",
    "* axis objects: the individual plots that are rendered within the figure.\n",
    "\n",
    "Different elements of a standard graph are shown in the image below"
   ]
  },
  {
   "cell_type": "markdown",
   "metadata": {},
   "source": [
    "![image](https://3.bp.blogspot.com/-AtPG_12l4e8/XRSuQEECZGI/AAAAAAAAHxY/ZsgtA4rMphMZujcWUur9BB-xYKoWDkKPQCLcBGAs/s1600/basics_matplotlib.PNG)\n",
    "\n",
    "[3]"
   ]
  },
  {
   "cell_type": "markdown",
   "metadata": {},
   "source": [
    "Matplotlib comes pre installed on many Python distrubutions like Anaconda, if it is not it can be easily installed by using the command.\n",
    "\n",
    "```pip install matplotlib```"
   ]
  },
  {
   "cell_type": "markdown",
   "metadata": {},
   "source": [
    "Matplotlib contains many modules that provide different plotting functionality, the most commonly used module is pyplot.\n",
    "\n",
    "The pyplot module is typically imported using \"plt\" key."
   ]
  },
  {
   "cell_type": "code",
   "execution_count": 1,
   "metadata": {},
   "outputs": [],
   "source": [
    "# Import pyplot\n",
    "import matplotlib.pyplot as plt"
   ]
  },
  {
   "cell_type": "code",
   "execution_count": 2,
   "metadata": {},
   "outputs": [],
   "source": [
    "%matplotlib inline"
   ]
  },
  {
   "cell_type": "markdown",
   "metadata": {},
   "source": [
    "The below series of plots will show the use of figures and axes within pyplot as examples of how these objects build the plots.\n",
    "\n",
    "Using pyplot to set the figure object"
   ]
  },
  {
   "cell_type": "code",
   "execution_count": 3,
   "metadata": {},
   "outputs": [
    {
     "data": {
      "image/png": "[encoded data removed]",
      "text/plain": [
       "<Figure size 432x288 with 1 Axes>"
      ]
     },
     "metadata": {
      "needs_background": "light"
     },
     "output_type": "display_data"
    }
   ],
   "source": [
    "#setting the figure\n",
    "fig, ax = plt.subplots()"
   ]
  },
  {
   "cell_type": "markdown",
   "metadata": {},
   "source": [
    "Applying 2 axes onto the figure object"
   ]
  },
  {
   "cell_type": "code",
   "execution_count": 4,
   "metadata": {},
   "outputs": [
    {
     "data": {
      "image/png": "[encoded data removed]",
      "text/plain": [
       "<Figure size 432x288 with 2 Axes>"
      ]
     },
     "metadata": {
      "needs_background": "light"
     },
     "output_type": "display_data"
    }
   ],
   "source": [
    "#Plotting 2 axes on one figure\n",
    "fig, (ax1, ax2) = plt.subplots(1,2)"
   ]
  },
  {
   "cell_type": "markdown",
   "metadata": {},
   "source": [
    "A simple line plot using pyplot. A simple dataset is created and pyplot is call using plt.plot() to plot the data contained in x."
   ]
  },
  {
   "cell_type": "code",
   "execution_count": 5,
   "metadata": {},
   "outputs": [
    {
     "data": {
      "text/plain": [
       "[<matplotlib.lines.Line2D at 0x18575bd02e0>]"
      ]
     },
     "execution_count": 5,
     "metadata": {},
     "output_type": "execute_result"
    },
    {
     "data": {
      "image/png": "[encoded data removed]",
      "text/plain": [
       "<Figure size 432x288 with 1 Axes>"
      ]
     },
     "metadata": {
      "needs_background": "light"
     },
     "output_type": "display_data"
    }
   ],
   "source": [
    "#Simple dataset\n",
    "x = (1,2,3,4,5,6,7)\n",
    "\n",
    "#Using pyplot to the line \n",
    "plt.plot(x)"
   ]
  },
  {
   "cell_type": "markdown",
   "metadata": {},
   "source": [
    "Plotting a formula of x squared"
   ]
  },
  {
   "cell_type": "code",
   "execution_count": 6,
   "metadata": {},
   "outputs": [
    {
     "data": {
      "text/plain": [
       "[<matplotlib.lines.Line2D at 0x18575c319d0>]"
      ]
     },
     "execution_count": 6,
     "metadata": {},
     "output_type": "execute_result"
    },
    {
     "data": {
      "image/png": "[encoded data removed]",
      "text/plain": [
       "<Figure size 432x288 with 1 Axes>"
      ]
     },
     "metadata": {
      "needs_background": "light"
     },
     "output_type": "display_data"
    }
   ],
   "source": [
    "x = (1,2,3,4,5,6,7)\n",
    "#Iterate through x and calculate the square of each\n",
    "x2 = [x ** 2 for x in x]\n",
    "\n",
    "#plotting the new list\n",
    "plt.plot(x2)"
   ]
  },
  {
   "cell_type": "markdown",
   "metadata": {},
   "source": [
    "Using pyplot to plot two lines on one axis"
   ]
  },
  {
   "cell_type": "code",
   "execution_count": 7,
   "metadata": {},
   "outputs": [
    {
     "data": {
      "text/plain": [
       "[<matplotlib.lines.Line2D at 0x18575c98490>]"
      ]
     },
     "execution_count": 7,
     "metadata": {},
     "output_type": "execute_result"
    },
    {
     "data": {
      "image/png": "[encoded data removed]",
      "text/plain": [
       "<Figure size 432x288 with 1 Axes>"
      ]
     },
     "metadata": {
      "needs_background": "light"
     },
     "output_type": "display_data"
    }
   ],
   "source": [
    "plt.plot(x)\n",
    "plt.plot(x2)"
   ]
  },
  {
   "cell_type": "markdown",
   "metadata": {},
   "source": [
    "Using pyplot to plot one a different axis"
   ]
  },
  {
   "cell_type": "code",
   "execution_count": 8,
   "metadata": {},
   "outputs": [
    {
     "data": {
      "text/plain": [
       "[<matplotlib.lines.Line2D at 0x18575d20bb0>]"
      ]
     },
     "execution_count": 8,
     "metadata": {},
     "output_type": "execute_result"
    },
    {
     "data": {
      "image/png": "[encoded data removed]",
      "text/plain": [
       "<Figure size 432x288 with 2 Axes>"
      ]
     },
     "metadata": {
      "needs_background": "light"
     },
     "output_type": "display_data"
    }
   ],
   "source": [
    "fig, (ax1, ax2) = plt.subplots(1,2)\n",
    "\n",
    "ax1.plot(x)\n",
    "ax2.plot(x2)"
   ]
  },
  {
   "cell_type": "markdown",
   "metadata": {},
   "source": [
    "#### Labels\n",
    "\n",
    "Matplotlib has built in functions that allow the labelling of plots command include:\n",
    "\n",
    "* ```label()```  - cab assign a label to each plot\n",
    "* ```xlabel()``` - for labelling the x axis\n",
    "* ```ylabel()``` - for labelling the x axis\n",
    "* ```title()```  - for the plot title\n",
    "* ```legend()``` - creates a key of the labels"
   ]
  },
  {
   "cell_type": "code",
   "execution_count": 9,
   "metadata": {},
   "outputs": [
    {
     "data": {
      "text/plain": [
       "<matplotlib.legend.Legend at 0x18575d79e80>"
      ]
     },
     "execution_count": 9,
     "metadata": {},
     "output_type": "execute_result"
    },
    {
     "data": {
      "image/png": "[encoded data removed]",
      "text/plain": [
       "<Figure size 432x288 with 1 Axes>"
      ]
     },
     "metadata": {
      "needs_background": "light"
     },
     "output_type": "display_data"
    }
   ],
   "source": [
    "#establish the dataset\n",
    "x = (1,2,3,4)\n",
    "x2 = [x ** 2 for x in x]\n",
    "x3 = [x ** 3 for x in x]\n",
    "\n",
    "#plot as before with added labels\n",
    "plt.plot(x, label = \"x\")\n",
    "plt.plot(x2, label = \"x2\")\n",
    "#can call on the variable itself to display the contents\n",
    "plt.plot(x3, label = x3)\n",
    "\n",
    "#Add a title\n",
    "plt.title (\"Example of labels\")\n",
    "#x and y labels\n",
    "plt.xlabel(\"x\")\n",
    "plt.ylabel(\"y\")\n",
    "#legend that takes values from \"label\"\n",
    "plt.legend()"
   ]
  },
  {
   "cell_type": "markdown",
   "metadata": {},
   "source": [
    "#### Styling\n",
    "\n",
    "They are many different style function built into matplotlib some commands include\n",
    "\n",
    "* ```color```     - can change the line colour  \n",
    "* ```linestyle``` - assign a style to the line\n",
    "* ```linewidth``` - set the thickness of the line\n",
    "* ```marker```    - add an interval marker on the line\n",
    "* ```grid```      - apply a background grid, can also set to apply to just one axis\n",
    "* ```facecolor``` - set the background colour"
   ]
  },
  {
   "cell_type": "code",
   "execution_count": 10,
   "metadata": {},
   "outputs": [
    {
     "data": {
      "image/png": "[encoded data removed]",
      "text/plain": [
       "<Figure size 432x288 with 1 Axes>"
      ]
     },
     "metadata": {
      "needs_background": "light"
     },
     "output_type": "display_data"
    }
   ],
   "source": [
    "fig, ax = plt.subplots()\n",
    "\n",
    "#establish the dataset\n",
    "x = (1,2,3,4)\n",
    "x2 = [x ** 2 for x in x]\n",
    "x3 = [x ** 3 for x in x]\n",
    "\n",
    "#plot just \"*\" instead of a line, coloured red\n",
    "plt.plot(x, \"*\", color = \"red\")\n",
    "#apply marker\n",
    "plt.plot(x2, marker = \"o\")\n",
    "#set the linestyle and thickness\n",
    "plt.plot(x3, linestyle =\"dashed\", linewidth = \"5\")\n",
    "#apply a grid (set to only y axis and dashed line)\n",
    "plt.grid(axis = \"y\", linestyle =\"dashed\")\n",
    "#change the axis colour\n",
    "ax.set_facecolor(\"lightblue\")"
   ]
  },
  {
   "cell_type": "markdown",
   "metadata": {},
   "source": [
    "#### Putting it together\n",
    "\n",
    "With this plot numpy is imported to use the linspace function to plot evenly spaced samples over an interval range, this will result in a curved plot. Then the markers have to be set to the desired interval rather than at every plot point.\n",
    "\n",
    "Latex math notation can also be used to style the labels."
   ]
  },
  {
   "cell_type": "code",
   "execution_count": 11,
   "metadata": {},
   "outputs": [
    {
     "data": {
      "image/png": "[encoded data removed]",
      "text/plain": [
       "<Figure size 432x288 with 1 Axes>"
      ]
     },
     "metadata": {
      "needs_background": "light"
     },
     "output_type": "display_data"
    }
   ],
   "source": [
    "import numpy as np\n",
    "\n",
    "#define dataset\n",
    "lowRange = 0\n",
    "highRange = 4\n",
    "#I decided to make the step 10 * the high range, this means it will plot 10 points for each whole number on the x axis\n",
    "#this makes the \"markevery\" consistent and easy to configure\n",
    "step = (highRange*10)+1\n",
    "\n",
    "#set axes area, i extended the y limit to 70 otherwise in cuts off at 60 and the highest value is 64\n",
    "ax = plt.axes()\n",
    "#ylim and xlim can hardcode the plot area\n",
    "plt.ylim(-2,70)\n",
    "\n",
    "#create dataset, I used linspace as it plots evenly spaced samples over the interval range\n",
    "xpoints = np.linspace(lowRange,highRange,step)\n",
    "\n",
    "#calculations for x, xsquared and xcubed\n",
    "x = xpoints\n",
    "x2 = xpoints**2\n",
    "x3 = xpoints**3\n",
    "\n",
    "#plots x and y, using $\"\"$ denote LaTeX math notation for labels, colours chosen from CSS color\n",
    "#markevery plots a point at every whole number on the x axis\n",
    "plt.plot(xpoints, x,label = \"$f(x)= x$\", color=\"firebrick\", linewidth = 2, marker = \"o\", markevery = 10)\n",
    "plt.plot(xpoints, x2,label = \"$g(x)= x^{2}$\", color=\"royalblue\", linewidth = 2, marker = \"o\", markevery = 10)\n",
    "plt.plot(xpoints, x3, label = \"$h(x)= x^{3}$\", color=\"forestgreen\", linewidth = 2, marker = \"o\", markevery = 10)\n",
    "\n",
    "#labels, using LaTeX math notation\n",
    "plt.title (\"Values of $x$, $x^{}$, and $x^{}$ in the range {}-{}\".format(2,3,lowRange,highRange))\n",
    "plt.xlabel(\"$x$\")\n",
    "plt.ylabel(\"$x^{n}$\")\n",
    "plt.legend()\n",
    "\n",
    "#style, sets background colour and a dashed grid\n",
    "plt.grid(linestyle =\"dashed\")\n",
    "ax.set_facecolor(\"lightgrey\")"
   ]
  },
  {
   "cell_type": "code",
   "execution_count": null,
   "metadata": {},
   "outputs": [],
   "source": []
  },
  {
   "cell_type": "markdown",
   "metadata": {},
   "source": [
    "These have all been plotted using the default line plot type within the library, other simple plots can be defined with the following functions:\n",
    "\n",
    "| Type of Plot  | Function  |\n",
    "|---|---|\n",
    "| line plot (Default)  | plt.plot(  )  |  \n",
    "| vertical bar plots  | plt.bar(  )  | \n",
    "| horizontal bar plots  | plt.barh(  )  |\n",
    "| histogram  | plt.hist(  )  |  \n",
    "| boxplot  | plt.box(  )  |  \n",
    "| area plots  | plt.area(  )  |  \n",
    "| scatter plots  | plt.scatter(  )  |  \n",
    "| pie plots  | plt.pie(  )  |  \n",
    "| hexagonal bin plots  | plt.hexbin(  )  |  \n",
    "\n"
   ]
  },
  {
   "cell_type": "markdown",
   "metadata": {},
   "source": [
    "----------\n",
    "## Three Interesting Plots\n",
    "\n",
    "For the interesting plots the Iris dataset will be used to give examples of the various plots and help describe the functionality."
   ]
  },
  {
   "cell_type": "code",
   "execution_count": 12,
   "metadata": {},
   "outputs": [],
   "source": [
    "import pandas as pd"
   ]
  },
  {
   "cell_type": "markdown",
   "metadata": {},
   "source": [
    "Import the dataset and label the columns"
   ]
  },
  {
   "cell_type": "code",
   "execution_count": 13,
   "metadata": {},
   "outputs": [],
   "source": [
    "filename = \".\\Pyplot Data\\iris.csv\"\n",
    "\n",
    "df = pd.read_csv(filename, header = None, names = [\"Sepal Length\", \"Sepal Width\", \"Petal Length\", \"Petal Width\", \"Species\"])"
   ]
  },
  {
   "cell_type": "markdown",
   "metadata": {},
   "source": [
    "Verify the dataset imported as expected"
   ]
  },
  {
   "cell_type": "code",
   "execution_count": 14,
   "metadata": {},
   "outputs": [
    {
     "name": "stdout",
     "output_type": "stream",
     "text": [
      "     Sepal Length  Sepal Width  Petal Length  Petal Width         Species\n",
      "0             5.1          3.5           1.4          0.2     Iris-setosa\n",
      "1             4.9          3.0           1.4          0.2     Iris-setosa\n",
      "2             4.7          3.2           1.3          0.2     Iris-setosa\n",
      "3             4.6          3.1           1.5          0.2     Iris-setosa\n",
      "4             5.0          3.6           1.4          0.2     Iris-setosa\n",
      "..            ...          ...           ...          ...             ...\n",
      "145           6.7          3.0           5.2          2.3  Iris-virginica\n",
      "146           6.3          2.5           5.0          1.9  Iris-virginica\n",
      "147           6.5          3.0           5.2          2.0  Iris-virginica\n",
      "148           6.2          3.4           5.4          2.3  Iris-virginica\n",
      "149           5.9          3.0           5.1          1.8  Iris-virginica\n",
      "\n",
      "[150 rows x 5 columns]\n"
     ]
    }
   ],
   "source": [
    "print(df)"
   ]
  },
  {
   "cell_type": "code",
   "execution_count": 15,
   "metadata": {},
   "outputs": [
    {
     "name": "stdout",
     "output_type": "stream",
     "text": [
      "(150, 5)\n"
     ]
    }
   ],
   "source": [
    "shape = df.shape\n",
    "\n",
    "print(shape)"
   ]
  },
  {
   "cell_type": "code",
   "execution_count": 16,
   "metadata": {},
   "outputs": [
    {
     "name": "stdout",
     "output_type": "stream",
     "text": [
      "Sepal Length    150\n",
      "Sepal Width     150\n",
      "Petal Length    150\n",
      "Petal Width     150\n",
      "Species         150\n",
      "dtype: int64\n"
     ]
    }
   ],
   "source": [
    "count = df.count()\n",
    "print(count)"
   ]
  },
  {
   "cell_type": "code",
   "execution_count": 17,
   "metadata": {},
   "outputs": [
    {
     "name": "stdout",
     "output_type": "stream",
     "text": [
      "Iris-versicolor    50\n",
      "Iris-setosa        50\n",
      "Iris-virginica     50\n",
      "Name: Species, dtype: int64\n"
     ]
    }
   ],
   "source": [
    "countSpecies = df[\"Species\"].value_counts()\n",
    "print(countSpecies)"
   ]
  },
  {
   "cell_type": "code",
   "execution_count": 18,
   "metadata": {},
   "outputs": [
    {
     "name": "stdout",
     "output_type": "stream",
     "text": [
      "       Sepal Length  Sepal Width  Petal Length  Petal Width\n",
      "count        150.00       150.00        150.00       150.00\n",
      "mean           5.84         3.06          3.76         1.20\n",
      "std            0.83         0.44          1.77         0.76\n",
      "min            4.30         2.00          1.00         0.10\n",
      "25%            5.10         2.80          1.60         0.30\n",
      "50%            5.80         3.00          4.35         1.30\n",
      "75%            6.40         3.30          5.10         1.80\n",
      "max            7.90         4.40          6.90         2.50\n"
     ]
    }
   ],
   "source": [
    "summary = df.describe().round(2)\n",
    "print(summary)"
   ]
  },
  {
   "cell_type": "code",
   "execution_count": null,
   "metadata": {},
   "outputs": [],
   "source": []
  },
  {
   "cell_type": "code",
   "execution_count": null,
   "metadata": {},
   "outputs": [],
   "source": []
  },
  {
   "cell_type": "markdown",
   "metadata": {},
   "source": [
    "---\n",
    "### Histograms\n",
    "[Official Documentation](https://matplotlib.org/stable/api/_as_gen/matplotlib.pyplot.hist.html)"
   ]
  },
  {
   "cell_type": "code",
   "execution_count": 19,
   "metadata": {},
   "outputs": [
    {
     "data": {
      "image/png": "[encoded data removed]",
      "text/plain": [
       "<Figure size 432x288 with 1 Axes>"
      ]
     },
     "metadata": {
      "needs_background": "light"
     },
     "output_type": "display_data"
    }
   ],
   "source": [
    "ax = plt.axes()\n",
    "plt.hist(df[\"Sepal Length\"], color = \"#810f7c\", ec = \"black\")\n",
    "plt.title(\"Sepal Length Histogram\")\n",
    "plt.xlabel(\"Sepal Length\")\n",
    "ax.set_facecolor(\"lightgrey\")"
   ]
  },
  {
   "cell_type": "code",
   "execution_count": 20,
   "metadata": {},
   "outputs": [
    {
     "data": {
      "image/png": "[encoded data removed]",
      "text/plain": [
       "<Figure size 432x288 with 1 Axes>"
      ]
     },
     "metadata": {
      "needs_background": "light"
     },
     "output_type": "display_data"
    }
   ],
   "source": [
    "ax = plt.axes()\n",
    "plt.hist(df[\"Sepal Width\"], color = \"#8856a7\", ec = \"black\")\n",
    "plt.title(\"Sepal Width Histogram\")\n",
    "plt.xlabel(\"Sepal Width\")\n",
    "ax.set_facecolor(\"lightgrey\") "
   ]
  },
  {
   "cell_type": "code",
   "execution_count": 21,
   "metadata": {},
   "outputs": [
    {
     "data": {
      "image/png": "[encoded data removed]",
      "text/plain": [
       "<Figure size 432x288 with 1 Axes>"
      ]
     },
     "metadata": {
      "needs_background": "light"
     },
     "output_type": "display_data"
    }
   ],
   "source": [
    "ax = plt.axes()\n",
    "plt.hist(df[\"Petal Length\"], color = \"#8c96c6\", ec = \"black\")\n",
    "plt.title(\"Petal Length Histogram\")\n",
    "plt.xlabel(\"Petal Length\")\n",
    "ax.set_facecolor(\"lightgrey\")"
   ]
  },
  {
   "cell_type": "code",
   "execution_count": 22,
   "metadata": {},
   "outputs": [
    {
     "data": {
      "image/png": "[encoded data removed]",
      "text/plain": [
       "<Figure size 432x288 with 1 Axes>"
      ]
     },
     "metadata": {
      "needs_background": "light"
     },
     "output_type": "display_data"
    }
   ],
   "source": [
    "ax = plt.axes()\n",
    "plt.hist(df[\"Petal Width\"], color = \"#b3cde3\", ec = \"black\")\n",
    "plt.title(\"Petal Width Histogram\")\n",
    "plt.xlabel(\"Petal Width\")\n",
    "ax.set_facecolor(\"lightgrey\")"
   ]
  },
  {
   "cell_type": "code",
   "execution_count": 23,
   "metadata": {},
   "outputs": [
    {
     "data": {
      "image/png": "[encoded data removed]",
      "text/plain": [
       "<Figure size 432x288 with 4 Axes>"
      ]
     },
     "metadata": {
      "needs_background": "light"
     },
     "output_type": "display_data"
    }
   ],
   "source": [
    "plt.subplot(2,2,1)\n",
    "plt.hist(df[\"Sepal Length\"], color = \"#810f7c\", ec = \"black\")\n",
    "plt.title(\"Sepal Length Histogram\")\n",
    "plt.xlabel(\"Sepal Length\")\n",
    "\n",
    "plt.subplot(2,2,2)\n",
    "plt.hist(df[\"Sepal Width\"], color = \"#8856a7\", ec = \"black\")\n",
    "plt.title(\"Sepal Width Histogram\")\n",
    "plt.xlabel(\"Sepal Width\")\n",
    "\n",
    "plt.subplot(2,2,3)\n",
    "plt.hist(df[\"Petal Length\"], color = \"#8c96c6\", ec = \"black\")\n",
    "plt.title(\"Petal Length Histogram\")\n",
    "plt.xlabel(\"Petal Length\")\n",
    "\n",
    "plt.subplot(2,2,4)\n",
    "plt.hist(df[\"Petal Width\"], color = \"#b3cde3\", ec = \"black\")\n",
    "plt.title(\"Petal Width Histogram\")\n",
    "plt.xlabel(\"Petal Width\")\n",
    "\n",
    "plt.tight_layout()"
   ]
  },
  {
   "cell_type": "code",
   "execution_count": null,
   "metadata": {},
   "outputs": [],
   "source": []
  },
  {
   "cell_type": "markdown",
   "metadata": {},
   "source": [
    "---\n",
    "### Scatter Plots\n",
    "[Official Documentation](https://matplotlib.org/stable/api/_as_gen/matplotlib.pyplot.scatter.html)"
   ]
  },
  {
   "cell_type": "code",
   "execution_count": null,
   "metadata": {},
   "outputs": [],
   "source": []
  },
  {
   "cell_type": "markdown",
   "metadata": {},
   "source": [
    "---\n",
    "### Box Plots\n",
    "[Official Documentation](https://matplotlib.org/3.1.1/api/_as_gen/matplotlib.pyplot.boxplot.html)"
   ]
  },
  {
   "cell_type": "code",
   "execution_count": null,
   "metadata": {},
   "outputs": [],
   "source": []
  },
  {
   "cell_type": "code",
   "execution_count": null,
   "metadata": {},
   "outputs": [],
   "source": []
  },
  {
   "cell_type": "code",
   "execution_count": null,
   "metadata": {},
   "outputs": [],
   "source": []
  },
  {
   "cell_type": "code",
   "execution_count": null,
   "metadata": {},
   "outputs": [],
   "source": []
  },
  {
   "cell_type": "code",
   "execution_count": null,
   "metadata": {},
   "outputs": [],
   "source": []
  },
  {
   "cell_type": "markdown",
   "metadata": {},
   "source": [
    "### References:\n",
    "\n"
   ]
  },
  {
   "cell_type": "markdown",
   "metadata": {},
   "source": [
    "1. https://matplotlib.org/\n",
    "2. https://www.analyticsvidhya.com/blog/2021/10/introduction-to-matplotlib-using-python-for-beginners/\n",
    "3. https://www.listendata.com/2019/06/matplotlib-tutorial-learn-plot-python.html"
   ]
  },
  {
   "cell_type": "code",
   "execution_count": null,
   "metadata": {},
   "outputs": [],
   "source": []
  }
 ],
 "metadata": {
  "kernelspec": {
   "display_name": "Python 3",
   "language": "python",
   "name": "python3"
  },
  "language_info": {
   "codemirror_mode": {
    "name": "ipython",
    "version": 3
   },
   "file_extension": ".py",
   "mimetype": "text/x-python",
   "name": "python",
   "nbconvert_exporter": "python",
   "pygments_lexer": "ipython3",
   "version": "3.8.5"
  }
 },
 "nbformat": 4,
 "nbformat_minor": 4
}
